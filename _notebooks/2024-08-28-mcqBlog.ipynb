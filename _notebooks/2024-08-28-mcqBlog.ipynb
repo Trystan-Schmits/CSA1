{
 "cells": [
  {
   "cell_type": "raw",
   "metadata": {
    "vscode": {
     "languageId": "raw"
    }
   },
   "source": [
    "---\n",
    "layout: post\n",
    "title: MCQ Blog\n",
    "description: Blog about my MCQ practice\n",
    "permalink: /mcq-blog\n",
    "comments: true\n",
    "---"
   ]
  },
  {
   "cell_type": "markdown",
   "metadata": {},
   "source": [
    "## Trystan"
   ]
  },
  {
   "cell_type": "markdown",
   "metadata": {},
   "source": [
    "# Java Takeaways"
   ]
  },
  {
   "cell_type": "markdown",
   "metadata": {},
   "source": [
    "### 1. String.substring(int i, int k);\n",
    "Turns out I forgot that the substring doesn't include the index listed in k:"
   ]
  },
  {
   "cell_type": "code",
   "execution_count": null,
   "metadata": {
    "vscode": {
     "languageId": "java"
    }
   },
   "outputs": [
    {
     "name": "stdout",
     "output_type": "stream",
     "text": [
      "AAA\n"
     ]
    }
   ],
   "source": [
    "String myString = \"AAAB\";\n",
    "\n",
    "// index: 0, value 'A'\n",
    "// index: 1, value 'A'\n",
    "// index: 2, value 'A'\n",
    "// index: 3, value 'B'\n",
    "\n",
    "//substring doesn't include index 3\n",
    "System.out.println(myString.substring(0,3));"
   ]
  },
  {
   "cell_type": "markdown",
   "metadata": {},
   "source": [
    "this means that *substring(int i, int k)* equivially follows the math domain [i,k)\n",
    "\n",
    "### 2. Math.random();\n",
    "\"Returns: a pseudorandom double greater than or equal to 0.0 and less than 1.0.\" ([java docs](https://docs.oracle.com/javase/8/docs/api/java/lang/Math.html))"
   ]
  },
  {
   "cell_type": "code",
   "execution_count": null,
   "metadata": {
    "vscode": {
     "languageId": "java"
    }
   },
   "outputs": [],
   "source": [
    "//results in an infinte loop\n",
    "while(true){\n",
    "    if(Math.random() == 1) //this will NEVER be true\n",
    "        break;\n",
    "}\n",
    "\n",
    "//btw don't run this, it won't stop"
   ]
  },
  {
   "cell_type": "markdown",
   "metadata": {},
   "source": [
    "\n",
    "This is again following a similar domain [0,1)\n",
    "\n",
    "### 3. OR operator (||) vs. AND operated (&&)\n",
    "This one is self explanable, I was moving too fast and mixed the two up on a problem"
   ]
  }
 ],
 "metadata": {
  "kernelspec": {
   "display_name": "Java",
   "language": "java",
   "name": "java"
  },
  "language_info": {
   "codemirror_mode": "java",
   "file_extension": ".jshell",
   "mimetype": "text/x-java-source",
   "name": "Java",
   "pygments_lexer": "java",
   "version": "17.0.13+11-Ubuntu-2ubuntu122.04"
  }
 },
 "nbformat": 4,
 "nbformat_minor": 2
}
