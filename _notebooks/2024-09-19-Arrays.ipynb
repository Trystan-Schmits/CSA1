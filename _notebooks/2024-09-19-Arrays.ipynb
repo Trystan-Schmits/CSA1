{
 "cells": [
  {
   "cell_type": "raw",
   "metadata": {},
   "source": [
    "---\n",
    "layout: post\n",
    "title: Arrays\n",
    "description: popcorn hacks for arrays \n",
    "permalink: /arrays\n",
    "comments: true\n",
    "---"
   ]
  },
  {
   "cell_type": "code",
   "execution_count": 1,
   "metadata": {
    "vscode": {
     "languageId": "java"
    }
   },
   "outputs": [
    {
     "name": "stdout",
     "output_type": "stream",
     "text": [
      "[San Diego, Los Angeles, San Fransisco, Sacramento]\n"
     ]
    }
   ],
   "source": [
    "String[] city_array = new String[4];\n",
    "city_array[0] = \"San Diego\";\n",
    "city_array[1] = \"Los Angeles\";\n",
    "city_array[2] = \"San Fransisco\";\n",
    "city_array[3] = \"Sacramento\";\n",
    "\n",
    "System.out.println(Arrays.toString(city_array));\n"
   ]
  },
  {
   "cell_type": "code",
   "execution_count": 3,
   "metadata": {
    "vscode": {
     "languageId": "java"
    }
   },
   "outputs": [
    {
     "name": "stdout",
     "output_type": "stream",
     "text": [
      "[San Diego, Sacramento, San Fransisco, San Jose]\n",
      "4\n"
     ]
    }
   ],
   "source": [
    "city_array[1] = \"Sacramento\";\n",
    "city_array[3] = \"San Jose\";\n",
    "\n",
    "System.out.println(Arrays.toString(city_array));\n",
    "System.out.println(city_array.length);"
   ]
  },
  {
   "cell_type": "code",
   "execution_count": 4,
   "metadata": {
    "vscode": {
     "languageId": "java"
    }
   },
   "outputs": [
    {
     "name": "stdout",
     "output_type": "stream",
     "text": [
      "0\n",
      "null\n",
      "0.0\n",
      "false\n"
     ]
    }
   ],
   "source": [
    "int[] int_array = new int[2];\n",
    "String[] String_array = new String[2];\n",
    "double[] double_array = new double[2];\n",
    "boolean[] boolean_array = new boolean[2];\n",
    "\n",
    "System.out.println(int_array[1]);\n",
    "System.out.println(String_array[1]);\n",
    "System.out.println(double_array[1]);\n",
    "System.out.println(boolean_array[1]);\n"
   ]
  },
  {
   "cell_type": "markdown",
   "metadata": {},
   "source": [
    "## Homework MCQ\n",
    "\n"
   ]
  },
  {
   "cell_type": "markdown",
   "metadata": {},
   "source": [
    "1. D, to find the third to last index of an array you can use **arr.length - 3**, then the String method *indexOf()* can be used to find the index of the first occurance of the substring passed through, this this case the substring from the find argument\n",
    "\n",
    "2. B, the arrays index of 1 is the value of 9, which the arrays index of 4 is the value of 6. (9)+(6)/2 = 12"
   ]
  },
  {
   "cell_type": "markdown",
   "metadata": {},
   "source": [
    "# 6.2"
   ]
  },
  {
   "cell_type": "code",
   "execution_count": 7,
   "metadata": {
    "vscode": {
     "languageId": "java"
    }
   },
   "outputs": [
    {
     "name": "stdout",
     "output_type": "stream",
     "text": [
      "6\n"
     ]
    }
   ],
   "source": [
    "int[] arr = {1,2,3,4,5};\n",
    "\n",
    "public static int sumOfEvenNumbers(int[] array){\n",
    "    int total = 0;\n",
    "    for(int i = 0; i < array.length; i++){\n",
    "        if(array[i] % 2 == 0){\n",
    "            total += array[i];\n",
    "        }\n",
    "    }\n",
    "    return total;\n",
    "}\n",
    "\n",
    "System.out.println(sumOfEvenNumbers(arr));"
   ]
  },
  {
   "cell_type": "code",
   "execution_count": 9,
   "metadata": {
    "vscode": {
     "languageId": "java"
    }
   },
   "outputs": [
    {
     "name": "stdout",
     "output_type": "stream",
     "text": [
      "4\n"
     ]
    }
   ],
   "source": [
    "public int countOccurences(int[] array, int target){\n",
    "    int count = 0;\n",
    "    for(int v: array){\n",
    "        if(v==target){\n",
    "            count += 1;\n",
    "        }\n",
    "    }\n",
    "    return count;\n",
    "}\n",
    "\n",
    "int[] arr = {3,4,5,6,3,2,1,3,3};\n",
    "int tar = 3;\n",
    "\n",
    "System.out.println(countOccurences(arr,tar));"
   ]
  },
  {
   "cell_type": "code",
   "execution_count": 1,
   "metadata": {
    "vscode": {
     "languageId": "java"
    }
   },
   "outputs": [
    {
     "name": "stdout",
     "output_type": "stream",
     "text": [
      "3\n"
     ]
    }
   ],
   "source": [
    "public int firstNegativeIndex(int[] array){\n",
    "    int index = 0;\n",
    "    while(index < array.length && array[index] >= 0){\n",
    "        index += 1;\n",
    "    }\n",
    "    return index==arr.length?-1:index;\n",
    "}\n",
    "\n",
    "int[] arr = {1,2,-1,3};\n",
    "System.out.println(firstNegativeIndex(arr));"
   ]
  },
  {
   "cell_type": "code",
   "execution_count": 9,
   "metadata": {
    "vscode": {
     "languageId": "java"
    }
   },
   "outputs": [
    {
     "name": "stdout",
     "output_type": "stream",
     "text": [
      "6\n",
      "-1\n"
     ]
    }
   ],
   "source": [
    "public static int findSecondLargest(int[] arr) {\n",
    "    Arrays.sort(arr);\n",
    "    if(arr[arr.length - 1] == arr[arr.length - 2]){\n",
    "        return -1;\n",
    "    }\n",
    "    return arr[arr.length - 2];\n",
    "}\n",
    "\n",
    "// Example usage:\n",
    "public static void main(String[] args) {\n",
    "    int[] arr1 = {3, 1, 4, 1, 5, 9, 2, 6};\n",
    "    System.out.println(findSecondLargest(arr1)); // Output: 6\n",
    "\n",
    "    int[] arr2 = {10, 10, 10, 10};\n",
    "    System.out.println(findSecondLargest(arr2)); // Output: -1\n",
    "}\n",
    "\n",
    "main(null);"
   ]
  },
  {
   "cell_type": "markdown",
   "metadata": {},
   "source": [
    "# 6.3"
   ]
  },
  {
   "cell_type": "code",
   "execution_count": 22,
   "metadata": {
    "vscode": {
     "languageId": "java"
    }
   },
   "outputs": [
    {
     "name": "stdout",
     "output_type": "stream",
     "text": [
      "Java\n",
      "Python\n",
      "C#\n",
      "Javascript\n"
     ]
    }
   ],
   "source": [
    "String[] languages= {\"Java\",\"Python\",\"C#\",\"Javascript\"};\n",
    "\n",
    "for(String v: languages){ //simplified it to a for each loop instead of a index loop\n",
    "    System.out.println(v);\n",
    "}\n",
    "  "
   ]
  },
  {
   "cell_type": "code",
   "execution_count": 4,
   "metadata": {
    "vscode": {
     "languageId": "java"
    }
   },
   "outputs": [
    {
     "name": "stdout",
     "output_type": "stream",
     "text": [
      "Hello World, I'm An Array! "
     ]
    }
   ],
   "source": [
    "String[] myArray = {\"Hello\",\"World,\",\"I'm\",\"An\",\"Array!\"};\n",
    "\n",
    "// Add a loop to go through the array here\n",
    "for (String value : myArray){\n",
    "    System.out.print(value + \" \");\n",
    "}"
   ]
  },
  {
   "cell_type": "markdown",
   "metadata": {},
   "source": [
    "Multiple Choice:\n",
    "of the options only **option D** would not result in an error, so I will assume that is the one you want me to choose"
   ]
  },
  {
   "cell_type": "code",
   "execution_count": 18,
   "metadata": {
    "vscode": {
     "languageId": "java"
    }
   },
   "outputs": [
    {
     "name": "stdout",
     "output_type": "stream",
     "text": [
      "Word of Apple\n",
      "0\n",
      "Word of Banana\n",
      "1\n",
      "3\n",
      "5\n",
      "Word of Orange\n",
      "2\n"
     ]
    }
   ],
   "source": [
    "String[] fruits = {\"Apple\", \"Banana\", \"Orange\"};\n",
    "\n",
    "for (String fruit: fruits) {\n",
    "    System.out.println(\"Word of \"+ fruit);\n",
    "    char[] fruitChars = fruit.toCharArray();\n",
    "    for(int i = 0; i < fruitChars.length; i++){\n",
    "        if(Character.toLowerCase(fruitChars[i]) == 'a'){\n",
    "            System.out.println(i);\n",
    "        }\n",
    "    }\n",
    "};"
   ]
  },
  {
   "cell_type": "markdown",
   "metadata": {},
   "source": [
    "```\n",
    "String[] myArray = {\"Object 1\", \"Object 2\", \"Object 3\", \"Object 4\", \"Object 5\"};\n",
    "\n",
    "for (currentWord: myArray) {\n",
    "    System.out(currentWord)\n",
    "};\n",
    "```\n",
    "1. missing dataType at \"for (currentWord\"\n",
    "2. Should be System.out.print (ususally println);\n",
    "3. missing a semi-colon on the same line as the previous error"
   ]
  },
  {
   "cell_type": "code",
   "execution_count": 24,
   "metadata": {
    "vscode": {
     "languageId": "java"
    }
   },
   "outputs": [
    {
     "name": "stdout",
     "output_type": "stream",
     "text": [
      "Enter a grade: \n"
     ]
    },
    {
     "name": "stdout",
     "output_type": "stream",
     "text": [
      "average: 64.66666666666667\n",
      "[88, 93, 55, 68, 77, 7]\n"
     ]
    }
   ],
   "source": [
    "Integer[] grades = {88, 93, 55, 68, 77};\n",
    "\n",
    "Scanner userGrades = new Scanner(System.in);\n",
    "System.out.println(\"Enter a grade: \");\n",
    "int grade = Integer.parseInt(userGrades.nextLine());\n",
    "\n",
    "\n",
    "System.out.print(\"average: \");\n",
    "int total = grade;\n",
    "for(Integer value: grades){\n",
    "    total += value;\n",
    "}\n",
    "System.out.println((double)total/((double)(grades.length + 1)));\n",
    "\n",
    "grades = Arrays.copyOf(grades, grades.length + 1);\n",
    "grades[grades.length - 1] = grade;\n",
    "System.out.println(Arrays.toString(grades));\n"
   ]
  },
  {
   "cell_type": "markdown",
   "metadata": {},
   "source": [
    "# 6.4"
   ]
  },
  {
   "cell_type": "code",
   "execution_count": 2,
   "metadata": {
    "vscode": {
     "languageId": "java"
    }
   },
   "outputs": [
    {
     "name": "stdout",
     "output_type": "stream",
     "text": [
      "Increasing\n",
      "Increasing\n",
      "Decreasing\n",
      "Increasing\n",
      "Decreasing\n",
      "Increasing\n",
      "Decreasing\n",
      "Increasing\n",
      "Maximum value: 12\n",
      "Minimum value: -1\n"
     ]
    }
   ],
   "source": [
    "public class MaxMinInArray {\n",
    "\n",
    "    public static void findMaxAndMin(int[] array) {\n",
    "       \n",
    "        if (array == null || array.length == 0) {\n",
    "            System.out.println(\"Array is empty\");\n",
    "            return;\n",
    "        }\n",
    "\n",
    "        int max = array[0];\n",
    "        int min = array[0];\n",
    "        \n",
    "        for (int i = 1; i < array.length; i++) {\n",
    "            // Add code here\n",
    "            if (array[i] > max) {\n",
    "                max = array[i];  \n",
    "            }\n",
    "            if (array[i] < min) {\n",
    "                min = array[i];  \n",
    "            }\n",
    "\n",
    "            if(array[i]>array[i-1]){\n",
    "                System.out.println(\"Increasing\");\n",
    "            }\n",
    "            else {\n",
    "                System.out.println(\"Decreasing\");\n",
    "            }\n",
    "        }\n",
    "\n",
    "        System.out.println(\"Maximum value: \" + max);\n",
    "        System.out.println(\"Minimum value: \" + min);\n",
    "    }\n",
    "\n",
    "    public static void main(String[] args) {\n",
    "     \n",
    "        int[] array = {3, 5, 7, 2, 8, -1, 4, 0, 12};\n",
    "\n",
    "        \n",
    "        findMaxAndMin(array);\n",
    "    }\n",
    "}\n",
    "MaxMinInArray.main(null)"
   ]
  },
  {
   "cell_type": "code",
   "execution_count": 3,
   "metadata": {
    "vscode": {
     "languageId": "java"
    }
   },
   "outputs": [
    {
     "name": "stdout",
     "output_type": "stream",
     "text": [
      "5\n",
      "4\n",
      "3\n",
      "2\n",
      "1\n",
      "0\n"
     ]
    }
   ],
   "source": [
    "Integer[] myArray = {0, 1, 2, 3, 4, 5};\n",
    "\n",
    "for (int i=myArray.length-1; i >= 0; i-=1) {\n",
    "    System.out.println(myArray[i]);\n",
    "};"
   ]
  },
  {
   "cell_type": "code",
   "execution_count": 6,
   "metadata": {
    "vscode": {
     "languageId": "java"
    }
   },
   "outputs": [
    {
     "name": "stdout",
     "output_type": "stream",
     "text": [
      "gamma alpha "
     ]
    }
   ],
   "source": [
    "public class WordShifter {  \n",
    "    public static void main(String[] args) {\n",
    "        String[] words = {\"alpha\", \"beta\", \"gamma\", \"delta\"};\n",
    "        int shiftWord = 2;\n",
    "        for (int count = 0; count < shiftWord; count++) {\n",
    "            String temp = words[0];\n",
    "            for (int index = 0; index < words.length - 1; index++) {\n",
    "                words[index] = words[index + 1];\n",
    "            }\n",
    "            words[words.length - 1] = temp;\n",
    "        }\n",
    "        for (int i = 0; i < words.length; i+=2) { //print out words, skipping every other\n",
    "            System.out.print(words[i] + \" \");\n",
    "        }\n",
    "    }\n",
    "}\n",
    "WordShifter.main(null)"
   ]
  }
 ],
 "metadata": {
  "kernelspec": {
   "display_name": "Java",
   "language": "java",
   "name": "java"
  },
  "language_info": {
   "codemirror_mode": "java",
   "file_extension": ".jshell",
   "mimetype": "text/x-java-source",
   "name": "Java",
   "pygments_lexer": "java",
   "version": "17.0.12+7-Ubuntu-1ubuntu222.04"
  }
 },
 "nbformat": 4,
 "nbformat_minor": 2
}
