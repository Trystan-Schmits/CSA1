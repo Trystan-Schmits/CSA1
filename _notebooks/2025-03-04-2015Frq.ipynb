{
 "cells": [
  {
   "cell_type": "markdown",
   "metadata": {},
   "source": [
    "# 2015 FRQ\n",
    "\n",
    "## Question 1\n",
    "a."
   ]
  },
  {
   "cell_type": "code",
   "execution_count": 2,
   "metadata": {
    "vscode": {
     "languageId": "java"
    }
   },
   "outputs": [
    {
     "name": "stdout",
     "output_type": "stream",
     "text": [
      "herld\n"
     ]
    }
   ],
   "source": [
    "private String recombine(String word1, String word2){\n",
    "    return word1.substring(0,word1.length()/2)+word2.substring(word2.length()/2,word2.length());\n",
    "}\n",
    "\n",
    "System.out.println(recombine(\"hello\",\"World\"));"
   ]
  },
  {
   "cell_type": "markdown",
   "metadata": {},
   "source": [
    "b."
   ]
  },
  {
   "cell_type": "code",
   "execution_count": null,
   "metadata": {
    "vscode": {
     "languageId": "java"
    }
   },
   "outputs": [
    {
     "name": "stdout",
     "output_type": "stream",
     "text": [
      "[apar, peple, that, cis]\n"
     ]
    }
   ],
   "source": [
    "import java.util.Arrays;\n",
    "\n",
    "private String[] mixedWords(String[] words){\n",
    "    String[] temp = new String[words.length];\n",
    "    for(int i = 0; i< words.length; i+=2){\n",
    "        temp[i] = recombine(words[i],words[i+1]);\n",
    "        temp[i+1] = recombine(words[i+1],words[i]);\n",
    "    }\n",
    "    return temp;\n",
    "}\n",
    "\n",
    "String[] strings = new String[4];\n",
    "strings[0] = \"apple\";\n",
    "strings[1] = \"pear\";\n",
    "strings[2] = \"this\";\n",
    "strings[3] = \"cat\";\n",
    "\n",
    "System.out.println(Arrays.toString(mixedWords(strings)));"
   ]
  },
  {
   "cell_type": "markdown",
   "metadata": {},
   "source": [
    "## Question 2\n",
    "a."
   ]
  },
  {
   "cell_type": "code",
   "execution_count": null,
   "metadata": {
    "vscode": {
     "languageId": "java"
    }
   },
   "outputs": [
    {
     "name": "stdout",
     "output_type": "stream",
     "text": [
      "3\n",
      "-1\n"
     ]
    }
   ],
   "source": [
    "public static int getPeakIndex(int[] array){\n",
    "    int index = -1;\n",
    "    int maxValue = Integer.MIN_VALUE;\n",
    "    for(int i = 1; i<array.length-1;i++){\n",
    "        int value = array[i];\n",
    "        if(maxValue < value && value > array[i-1] && value > array[i+1]){\n",
    "            index = i;\n",
    "            maxValue = value;\n",
    "        }\n",
    "    }\n",
    "    //peak should not be at the end\n",
    "    if(array[array.length-1]>maxValue){ \n",
    "        index = -1;\n",
    "    }\n",
    "\n",
    "    return index;\n",
    "}\n",
    "\n",
    "int[] input = new int[5];\n",
    "input[0] = 99;\n",
    "input[1] = 33;\n",
    "input[2] = 55;\n",
    "input[3] = 77;\n",
    "input[4] = 55;\n",
    "System.out.println(getPeakIndex(input));\n",
    "input[0] = 99;\n",
    "input[1] = 33;\n",
    "input[2] = 55;\n",
    "input[3] = 77;\n",
    "input[4] = 120;\n",
    "System.out.println(getPeakIndex(input));\n"
   ]
  },
  {
   "cell_type": "markdown",
   "metadata": {},
   "source": [
    "b."
   ]
  },
  {
   "cell_type": "code",
   "execution_count": 21,
   "metadata": {
    "vscode": {
     "languageId": "java"
    }
   },
   "outputs": [
    {
     "name": "stdout",
     "output_type": "stream",
     "text": [
      "false\n",
      "false\n",
      "true\n"
     ]
    }
   ],
   "source": [
    "public static boolean isMountain(int[] array){\n",
    "    int peak = getPeakIndex(array);\n",
    "    if(peak == -1){return false;};\n",
    "\n",
    "    for (int i = peak-1; i>= 0; i--){\n",
    "        if(array[i+1] < array[i]){\n",
    "            return false;\n",
    "        }\n",
    "    }\n",
    "    for (int i = peak+1; i< array.length; i++){\n",
    "        if(array[i-1] < array[i]){\n",
    "            return false;\n",
    "        }\n",
    "    }\n",
    "    \n",
    "    return true;\n",
    "}\n",
    "\n",
    "int[] input1 = new int[5];\n",
    "input1[0] = 99;\n",
    "input1[1] = 33;\n",
    "input1[2] = 55;\n",
    "input1[3] = 77;\n",
    "input1[4] = 55;\n",
    "System.out.println(isMountain(input1));\n",
    "input1[0] = 99;\n",
    "input1[1] = 33;\n",
    "input1[2] = 55;\n",
    "input1[3] = 77;\n",
    "input1[4] = 120;\n",
    "System.out.println(isMountain(input1));\n",
    "input1[0] = 11;\n",
    "input1[1] = 33;\n",
    "input1[2] = 55;\n",
    "input1[3] = 77;\n",
    "input1[4] = 55;\n",
    "System.out.println(isMountain(input1));"
   ]
  }
 ],
 "metadata": {
  "kernelspec": {
   "display_name": "Java",
   "language": "java",
   "name": "java"
  },
  "language_info": {
   "codemirror_mode": "java",
   "file_extension": ".jshell",
   "mimetype": "text/x-java-source",
   "name": "Java",
   "pygments_lexer": "java",
   "version": "17.0.14+7-Ubuntu-122.04.1"
  }
 },
 "nbformat": 4,
 "nbformat_minor": 2
}
