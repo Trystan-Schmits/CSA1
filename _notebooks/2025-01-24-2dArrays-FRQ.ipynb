{
 "cells": [
  {
   "cell_type": "markdown",
   "metadata": {},
   "source": [
    "## Popcorn Hack\n",
    "\n",
    "Farmer John has 7 cats. They all eat a certain amount of magical grass, measured in lbs, every day. The farmer makes a 2D array with information about how much grass each cat ate each day. Each row represents how many pounds each cat ate that day. Each column represents a single cat. Please return a 1D array, where each element is the total amount of grass the cat ate.\n",
    "\n",
    "**TL;DR:** Sum up the values within each column and return a 1D array.\n",
    "```java\n",
    "// Sample test case\n",
    "int[][] grassData = {\n",
    "    {2, 3, 1, 4, 3, 2, 5},\n",
    "    {1, 2, 3, 1, 4, 2, 3},\n",
    "    {3, 4, 2, 5, 1, 3, 2}\n",
    "};\n",
    "\n",
    "// Your Code Here\n",
    "\n",
    "// Expected Output: [6, 9, 6, 10, 8, 7, 10]\n",
    "```\n"
   ]
  },
  {
   "cell_type": "code",
   "execution_count": 3,
   "id": "898d5052",
   "metadata": {
    "vscode": {
     "languageId": "java"
    }
   },
   "outputs": [
    {
     "name": "stdout",
     "output_type": "stream",
     "text": [
      "[6, 9, 6, 10, 8, 7, 10]\n"
     ]
    }
   ],
   "source": [
    "import java.util.Arrays; //more convient for toString\n",
    "\n",
    "int[] getColumnSums(int[][] input){\n",
    "    //creates a 1d array with a length of # of the columns in the input\n",
    "    int[] temp = new int[input[0].length]; \n",
    "\n",
    "    //loop through columns\n",
    "    for (int column = 0; column < input[0].length; column++){\n",
    "        //for each column loop through the rows\n",
    "        for(int row = 0; row < input.length; row++){\n",
    "            //add the column value from each row to the temp array\n",
    "            temp[column] += input[row][column]; \n",
    "        }\n",
    "    }\n",
    "\n",
    "    //return the array that is now filled with the column sums\n",
    "    return temp;\n",
    "}\n",
    "\n",
    "\n",
    "int[][] grassData = {\n",
    "    {2, 3, 1, 4, 3, 2, 5},\n",
    "    {1, 2, 3, 1, 4, 2, 3},\n",
    "    {3, 4, 2, 5, 1, 3, 2}\n",
    "};\n",
    "\n",
    "int[] columnSums = getColumnSums(grassData);\n",
    "\n",
    "System.out.println(Arrays.toString(columnSums));\n"
   ]
  },
  {
   "cell_type": "raw",
   "metadata": {
    "vscode": {
     "languageId": "raw"
    }
   },
   "source": [
    "---\n",
    "layout: post\n",
    "comments: true\n",
    "title: Period 3 2D Arrays Pt 2 - Sample Problem 2\n",
    "menu: nav/CSA_Units/frqs/per3-2Darrays-pt2.html\n",
    "permalink: csa/frqs/p3/2darrays2/sample2\n",
    "---"
   ]
  },
  {
   "cell_type": "markdown",
   "metadata": {
    "vscode": {
     "languageId": "raw"
    }
   },
   "source": [
    "# Sample Problem 2 - Competition!\n",
    "\n",
    "For this problem, please listen to instructions. There will be an in-class competition which will be an opportunity for extra credit. However, you must complete this problem either way as part of the homework.\n",
    "\n",
    "## Problem\n",
    "\n",
    "This question involves a path through a two-dimensional (2D) array of integers, where the path is based on the values of elements in the array. When an element of the 2D array is accessed, the first index is used to specify the row and the second index is used to specify the column. The following `Location` class represents a row and column position in the 2D array."
   ]
  },
  {
   "cell_type": "code",
   "execution_count": 12,
   "metadata": {
    "vscode": {
     "languageId": "java"
    }
   },
   "outputs": [
    {
     "name": "stdout",
     "output_type": "stream",
     "text": [
      "40\n"
     ]
    }
   ],
   "source": [
    "public class Location {\n",
    "    private int theRow;\n",
    "    private int theCol;\n",
    "\n",
    "    public Location(int r, int c) {\n",
    "        theRow = r;\n",
    "        theCol = c;\n",
    "    }\n",
    "\n",
    "    public int getRow() {\n",
    "        return theRow;\n",
    "    }\n",
    "\n",
    "    public int getCol() {\n",
    "        return theCol;\n",
    "    }\n",
    "}\n",
    "\n",
    "public class GridPath {\n",
    "    /** Initialized in the constructor with distinct values that never change */\n",
    "    private int[][] grid;\n",
    "\n",
    "    public GridPath(int[][] values)\n",
    "    {\n",
    "        grid = values;\n",
    "    }\n",
    "\n",
    "    /**\n",
    "    * Returns the Location representing a neighbor of the grid element at row and col,\n",
    "    * as described in part (a)\n",
    "    * Preconditions: row is a valid row index and col is a valid column index in grid.\n",
    "    * row and col do not specify the element in the last row and last column of grid.\n",
    "    */\n",
    "    public Location getNextLoc(int row, int col) {\n",
    "        //check for boundries\n",
    "        if(row+1 == this.grid.length && col+1 == this.grid[0].length){\n",
    "            return null; //there is no next location\n",
    "        }\n",
    "        else if(row+1 == this.grid.length){\n",
    "            return new Location(row,col+1); //we can only go right\n",
    "        }\n",
    "        else if(col+1 == this.grid[0].length){\n",
    "            return new Location(row+1,col); //we can only go down\n",
    "        } \n",
    "        else {\n",
    "            if(this.grid[row][col+1]<this.grid[row+1][col]){\n",
    "                return new Location(row,col+1); //value to the right is smaler\n",
    "            } else {\n",
    "                return new Location(row+1,col); //value to the bottom is smaller (or equal)\n",
    "            }\n",
    "        }\n",
    "    }\n",
    "\n",
    "    /**\n",
    "    * Computes and returns the sum of all values on a path through grid, as described in\n",
    "    * part (b)\n",
    "    * Preconditions: row is a valid row index and col is a valid column index in grid.\n",
    "    * row and col do not specify the element in the last row and last column of grid.\n",
    "    */\n",
    "    public int sumPath(int row, int col) {\n",
    "        Location current = new Location(row,col);\n",
    "        int sum = 0;\n",
    "        while (current != null){ //while the are still in the grid\n",
    "            //add current grid value\n",
    "            sum += this.grid[current.getRow()][current.getCol()]; \n",
    "            //set current location to the next location\n",
    "            current = getNextLoc(current.getRow(),current.getCol()); \n",
    "        }\n",
    "        return sum;\n",
    "    };\n",
    "    \n",
    "    // There may be instance variables, constructors, and methods that are not shown.\n",
    "}\n",
    "\n",
    "int[][] values = {\n",
    "    {1,3,5,7,9},\n",
    "    {8,6,4,8,10},\n",
    "    {1,3,5,7,9},\n",
    "    {2,6,4,8,10},\n",
    "};\n",
    "\n",
    "GridPath myPath = new GridPath(values);\n",
    "\n",
    "System.out.println(myPath.sumPath(0,0));\n"
   ]
  },
  {
   "cell_type": "markdown",
   "id": "2ae4006b",
   "metadata": {},
   "source": [
    "## Homework\n"
   ]
  },
  {
   "cell_type": "code",
   "execution_count": null,
   "id": "696f6b51",
   "metadata": {
    "vscode": {
     "languageId": "java"
    }
   },
   "outputs": [
    {
     "name": "stdout",
     "output_type": "stream",
     "text": [
      "Total Tastiness: 2\n",
      "Max Square Sum: 9\n",
      "Max Subarray Sum: 11\n"
     ]
    }
   ],
   "source": [
    "import java.lang.Integer;\n",
    "\n",
    "public class GrassPasture {\n",
    "    /** The 2D grid of pasture tastineess values */\n",
    "    private int[][] pastures;\n",
    "\n",
    "    /** Constructor initializes the field */\n",
    "    public GrassPasture(int[][] pastures) {\n",
    "        this.pastures = pastures;\n",
    "    }\n",
    "\n",
    "    /**\n",
    "     * Returns sum of total tastiness for all values in 2D array\n",
    "     */\n",
    "    public int getTotalGrass() {\n",
    "        int sum = 0;\n",
    "        for (int i = 0; i<this.pastures.length;i++){\n",
    "            for(int j = 0; j<this.pastures[i].length;j++){\n",
    "                sum += this.pastures[i][j];\n",
    "            }\n",
    "        }\n",
    "        return sum;\n",
    "    }\n",
    "\n",
    "    /**\n",
    "     * Returns max sum of tastiness of a square in the 2D array (square can be 1x1, 2x2, etc.)\n",
    "     */\n",
    "    public int maxSquare() {\n",
    "        \n",
    "        int currentSquareSize = 1;\n",
    "        int maxSquareValue = Integer.MIN_VALUE;\n",
    "\n",
    "        while(currentSquareSize < this.pastures.length){\n",
    "            //loop through each index, this will be the top left (0,0) of each sqaure\n",
    "            for (int i = 0; i<this.pastures.length;i++){\n",
    "                for(int j = 0; j<this.pastures[i].length;j++){\n",
    "                    // check if the subSquare is possible to make from given index\n",
    "                    if(i+currentSquareSize-1 < this.pastures.length && j+currentSquareSize-1 < this.pastures.length){\n",
    "                        //if it is possible, then get the sum from the subSqaure\n",
    "                        int sum = 0;\n",
    "                        for(int ii = i; ii<=i+currentSquareSize-1; ii++){\n",
    "                            for(int jj = j; jj<=j+currentSquareSize-1; jj++){\n",
    "                                sum += this.pastures[ii][jj];\n",
    "                            }\n",
    "                        }\n",
    "                        //if the sum is larger than the current max\n",
    "                        if(sum > maxSquareValue){\n",
    "                            //then set the max to the sqaure sum\n",
    "                            maxSquareValue = sum;\n",
    "                        }\n",
    "                    }\n",
    "                }\n",
    "            }\n",
    "            //increment the size of the square 1x1 -> 2x2 -> 3x3\n",
    "            currentSquareSize++;\n",
    "        }\n",
    "\n",
    "        return maxSquareValue;\n",
    "    }\n",
    "\n",
    "    /**\n",
    "     * Returns the maximum tastiness sum subarray in the flattened 2D grid\n",
    "     */\n",
    "    public int maxSubarraySum() {\n",
    "        //create a new array with a length that matched the array of the 2d array\n",
    "        int[] flattenedArray = new int[this.pastures.length * this.pastures[0].length];\n",
    "\n",
    "        //fill in the array with values from the 2d array\n",
    "        for (int i = 0; i<this.pastures.length;i++){\n",
    "            for(int j = 0; j<this.pastures[i].length;j++){\n",
    "                flattenedArray[j + i*this.pastures[i].length] = this.pastures[i][j];\n",
    "            }\n",
    "        }\n",
    "    \n",
    "        int subArrayStart = 0; //start at index 0\n",
    "        int subArrayMaxValue = Integer.MIN_VALUE; //start the min as the smallest value possible\n",
    "\n",
    "        while(subArrayStart <  flattenedArray.length){\n",
    "            //search through each sub array that starts at the subArrayStart index\n",
    "            int sum = 0;\n",
    "            for(int i = subArrayStart; i<flattenedArray.length;i++){\n",
    "                sum += flattenedArray[i];\n",
    "                //if the sub array sum is larger than the max\n",
    "                if(sum > subArrayMaxValue){ \n",
    "                    //set the max to the subArraySum\n",
    "                    subArrayMaxValue = sum; \n",
    "                }\n",
    "            }\n",
    "            //increment the starting index\n",
    "            subArrayStart++; \n",
    "        }\n",
    "        return subArrayMaxValue;\n",
    "    }\n",
    "}\n",
    "\n",
    "public class main{\n",
    "    public static void main(String[] param){\n",
    "        int[][] pastures = {\n",
    "            {-3, 6, -1},\n",
    "            {2, -1, 5},\n",
    "            {-9, 4, -1},\n",
    "        };\n",
    "        \n",
    "        GrassPasture gp = new GrassPasture(pastures);\n",
    "\n",
    "        int total = gp.getTotalGrass();\n",
    "\n",
    "        System.out.println(\"Total Tastiness: \" + total);\n",
    "        // answer should be -2\n",
    "\n",
    "        System.out.println(\"Max Square Sum: \" + gp.maxSquare());\n",
    "        // answer should be 9\n",
    "\n",
    "        System.out.println(\"Max Subarray Sum: \" + gp.maxSubarraySum());\n",
    "        // answer should be 11\n",
    "    }\n",
    "\n",
    "}\n",
    "\n",
    "main.main(null);\n"
   ]
  }
 ],
 "metadata": {
  "kernelspec": {
   "display_name": "Java",
   "language": "java",
   "name": "java"
  },
  "language_info": {
   "codemirror_mode": "java",
   "file_extension": ".jshell",
   "mimetype": "text/x-java-source",
   "name": "Java",
   "pygments_lexer": "java",
   "version": "17.0.13+11-Ubuntu-2ubuntu122.04"
  }
 },
 "nbformat": 4,
 "nbformat_minor": 5
}
