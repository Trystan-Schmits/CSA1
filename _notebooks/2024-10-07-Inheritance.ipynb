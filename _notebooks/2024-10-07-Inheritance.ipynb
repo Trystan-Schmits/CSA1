{
 "cells": [
  {
   "cell_type": "raw",
   "metadata": {
    "vscode": {
     "languageId": "raw"
    }
   },
   "source": [
    "---\n",
    "layout: post\n",
    "title: inheritance\n",
    "description: hacks for clases\n",
    "permalink: /inheritance\n",
    "comments: true\n",
    "---"
   ]
  },
  {
   "cell_type": "markdown",
   "metadata": {},
   "source": [
    "## Popcorn Hacks"
   ]
  },
  {
   "cell_type": "code",
   "execution_count": 8,
   "metadata": {
    "vscode": {
     "languageId": "java"
    }
   },
   "outputs": [
    {
     "name": "stdout",
     "output_type": "stream",
     "text": [
      "3.141592653589793\n",
      "10.392304845413264\n"
     ]
    }
   ],
   "source": [
    "public class Shape {\n",
    "    protected String name;\n",
    "    private int length;\n",
    "    private int width;\n",
    "\n",
    "    // Default constructor\n",
    "    public Shape() {\n",
    "        this.name = \"Shape\";\n",
    "        this.length = 10;\n",
    "        this.width = 5;\n",
    "    }\n",
    "\n",
    "    // Parameterized constructor\n",
    "    public Shape(String name, int length, int width) {\n",
    "        this.name = name;\n",
    "        this.length = length;\n",
    "        this.width = width;\n",
    "    }\n",
    "\n",
    "    // Getter methods\n",
    "    public String get_name() {\n",
    "        return this.name;\n",
    "    }\n",
    "\n",
    "    public int get_length() {\n",
    "        return this.length;\n",
    "    }\n",
    "\n",
    "    public int get_width() {\n",
    "        return this.width;\n",
    "    }\n",
    "\n",
    "    // Setter methods\n",
    "    public void set_name(String n) {\n",
    "        this.name = n;\n",
    "    }\n",
    "\n",
    "    public void set_length(int a) {\n",
    "        this.length = a;\n",
    "    }\n",
    "\n",
    "    public void set_width(int b) {\n",
    "        this.width = b;\n",
    "    }\n",
    "}\n",
    "\n",
    "class Circle extends Shape{\n",
    "    private int radius;\n",
    "\n",
    "    Circle() {\n",
    "        this.name = \"Circle\";\n",
    "        this.radius = 1;\n",
    "    }\n",
    "\n",
    "    Circle(String name, int radius) {\n",
    "        this.name = name;\n",
    "        this.radius = radius;\n",
    "    }\n",
    "\n",
    "    public double get_area(){\n",
    "        double rad = (double)this.radius;\n",
    "\n",
    "        return Math.PI * Math.pow(rad,2);\n",
    "    }\n",
    "}\n",
    "\n",
    "class Hexagon extends Shape{\n",
    "    private int sideLength;\n",
    "\n",
    "    Hexagon() {\n",
    "        this.name = \"Circle\";\n",
    "        this.sideLength = 1;\n",
    "    }\n",
    "\n",
    "    Hexagon(String name, int sideLength) {\n",
    "        this.name = name;\n",
    "        this.sideLength = sideLength;\n",
    "    }\n",
    "\n",
    "    public double get_area(){\n",
    "        double side = (double)this.sideLength;\n",
    "\n",
    "        return 3*Math.sqrt(3)/2 * Math.pow(side,2);\n",
    "    }\n",
    "}\n",
    "\n",
    "System.out.println((new Circle(\"my Circle\", 1)).get_area());\n",
    "System.out.println((new Hexagon(\"my Hexagon\", 2)).get_area());"
   ]
  },
  {
   "cell_type": "code",
   "execution_count": 13,
   "metadata": {
    "vscode": {
     "languageId": "java"
    }
   },
   "outputs": [
    {
     "name": "stdout",
     "output_type": "stream",
     "text": [
      "Parrot!\n"
     ]
    }
   ],
   "source": [
    "class Bird{\n",
    "    public String name;\n",
    "    Bird(String name){\n",
    "        this.name = name;\n",
    "    }\n",
    "}\n",
    "\n",
    "class Parrot extends Bird{\n",
    "    Parrot(String name){\n",
    "        super(name);\n",
    "    }\n",
    "}\n",
    "\n",
    "void printBirdStuff(Parrot parr){\n",
    "    System.out.println(parr.name);\n",
    "}\n",
    "\n",
    "Bird myParrot = new Parrot(\"Parrot!\");\n",
    "\n",
    "printBirdStuff((Parrot)myParrot);"
   ]
  }
 ],
 "metadata": {
  "kernelspec": {
   "display_name": "Java",
   "language": "java",
   "name": "java"
  },
  "language_info": {
   "codemirror_mode": "java",
   "file_extension": ".jshell",
   "mimetype": "text/x-java-source",
   "name": "Java",
   "pygments_lexer": "java",
   "version": "17.0.12+7-Ubuntu-1ubuntu222.04"
  }
 },
 "nbformat": 4,
 "nbformat_minor": 2
}
