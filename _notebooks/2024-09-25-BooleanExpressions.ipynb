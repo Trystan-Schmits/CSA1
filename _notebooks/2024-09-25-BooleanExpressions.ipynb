{
 "cells": [
  {
   "cell_type": "raw",
   "metadata": {},
   "source": [
    "---\n",
    "layout: post\n",
    "title: Booleans\n",
    "description: popcorn hacks for boolean expressions\n",
    "permalink: /bools\n",
    "comments: true\n",
    "---"
   ]
  },
  {
   "cell_type": "markdown",
   "metadata": {},
   "source": [
    "# 3.1"
   ]
  },
  {
   "cell_type": "code",
   "execution_count": 2,
   "metadata": {
    "vscode": {
     "languageId": "java"
    }
   },
   "outputs": [
    {
     "name": "stdout",
     "output_type": "stream",
     "text": [
      "true\n",
      "false\n",
      "true\n",
      "false\n",
      "true\n",
      "true\n"
     ]
    }
   ],
   "source": [
    "int myAge = 15;\n",
    "int otherAge = 45; \n",
    "\n",
    "System.out.println(myAge < 16);\n",
    "System.out.println(myAge > otherAge);\n",
    "System.out.println(myAge <= 15);\n",
    "System.out.println(myAge >= otherAge);\n",
    "System.out.println(myAge == 15);\n",
    "System.out.println(myAge != otherAge);"
   ]
  },
  {
   "cell_type": "markdown",
   "metadata": {},
   "source": [
    "## What's wrong with this code:"
   ]
  },
  {
   "cell_type": "code",
   "execution_count": null,
   "metadata": {
    "vscode": {
     "languageId": "java"
    }
   },
   "outputs": [],
   "source": [
    "String myName = Alisha;\n",
    "\n",
    "myName != Anika;\n",
    "myName == Alisha ;"
   ]
  },
  {
   "cell_type": "markdown",
   "metadata": {},
   "source": [
    "Strings are not in quotations\n",
    "\n",
    "why would you leave the expressions on their own\n"
   ]
  },
  {
   "cell_type": "markdown",
   "metadata": {
    "vscode": {
     "languageId": "java"
    }
   },
   "source": [
    "## homework question:\n",
    "\n",
    "It is unclear exactly what I am supposed to do with this questions but I guess the precondition is \"the number of digits in *num* is between one and six, inclusive.\""
   ]
  },
  {
   "cell_type": "markdown",
   "metadata": {},
   "source": [
    "# 3.2"
   ]
  },
  {
   "cell_type": "code",
   "execution_count": 3,
   "metadata": {
    "vscode": {
     "languageId": "java"
    }
   },
   "outputs": [
    {
     "name": "stdout",
     "output_type": "stream",
     "text": [
      "Current age: 16\n",
      "On your next birthday, you will be 17 years old!\n"
     ]
    }
   ],
   "source": [
    "public static void main(String[] args) {\n",
    "    int myAge = 16;\n",
    "    System.out.println(\"Current age: \" + myAge);\n",
    "    \n",
    "    if (!(myAge >= 16)) { //added a not statement, was this what I was supposed to do.\n",
    "        System.out.println(\"You can start learning to drive!\");\n",
    "    }\n",
    "\n",
    "    System.out.println(\"On your next birthday, you will be \" + (myAge + 1) + \" years old!\");\n",
    "}\n",
    "main(null);\n",
    "\n"
   ]
  },
  {
   "cell_type": "markdown",
   "metadata": {},
   "source": [
    "# 3.3"
   ]
  },
  {
   "cell_type": "markdown",
   "metadata": {},
   "source": [
    "Based on the code if you were less than 16 it would print out that you are not yet old enough for a license."
   ]
  },
  {
   "cell_type": "code",
   "execution_count": 5,
   "metadata": {
    "vscode": {
     "languageId": "java"
    }
   },
   "outputs": [
    {
     "name": "stdout",
     "output_type": "stream",
     "text": [
      "Hello! long string\n"
     ]
    }
   ],
   "source": [
    "String myString = \"abcde\";\n",
    "\n",
    "if(myString.length() > 4){\n",
    "    System.out.println(\"Hello! long string\");\n",
    "}\n",
    "else {\n",
    "    System.out.println(\"Goodbye! short string\");\n",
    "}"
   ]
  },
  {
   "cell_type": "markdown",
   "metadata": {},
   "source": [
    "# 3.4\n",
    "\n",
    "1. \"you can register to vote\", \"you are old enough for a license to drive\"\n",
    "2. nothing?\n",
    "3. "
   ]
  },
  {
   "cell_type": "code",
   "execution_count": 6,
   "metadata": {
    "vscode": {
     "languageId": "java"
    }
   },
   "outputs": [
    {
     "name": "stdout",
     "output_type": "stream",
     "text": [
      "Ok, Thats some bananas\n"
     ]
    }
   ],
   "source": [
    "int bananas = 22; // I have 30 bananas\n",
    "\n",
    "if (bananas >= 30){\n",
    "    System.out.println(\"THATS A LOT OF BANANAAAAAS!\");\n",
    "} else if (bananas >= 20){\n",
    "    System.out.println(\"Ok, Thats some bananas\");\n",
    "} else {\n",
    "    System.out.println(\"get more bananas\");\n",
    "}"
   ]
  },
  {
   "cell_type": "markdown",
   "metadata": {},
   "source": [
    "# 3.5\n",
    "\n",
    "### explain the purpose of this algorithm, and what each if condition is used for.\n",
    "\n",
    "The purpose of the alrgorithm is to determine what progrmans each person qualifies for.\n",
    "\n",
    "### what would be output if input is: age 20, annual income 1500, student status: yes\n",
    "\n",
    "The output would be: \"You are eligable for a student discount\"\n",
    "\n",
    "**why is it in javascript?**"
   ]
  },
  {
   "cell_type": "code",
   "execution_count": 8,
   "metadata": {
    "vscode": {
     "languageId": "java"
    }
   },
   "outputs": [
    {
     "name": "stdout",
     "output_type": "stream",
     "text": [
      "Student discount\n"
     ]
    }
   ],
   "source": [
    "public class Main {\n",
    "    public static void main(String[] args) {\n",
    "        int age = 30; // Change this value for testing\n",
    "        boolean isStudent = true; // Change this value for testing\n",
    "\n",
    "        String[] results = new String[3];\n",
    "        // Your compound conditional logic here\n",
    "\n",
    "        if( (age >= 21) && (isStudent == false)){\n",
    "            results[0] = \" Worker's tax\";\n",
    "        }\n",
    "\n",
    "        if((isStudent == true)){\n",
    "            results[1] = \"Student discount\";\n",
    "        }\n",
    "\n",
    "        if((age < 18)){\n",
    "            results[2] = \"Child Discount\";\n",
    "        }\n",
    "\n",
    "        for(String value : results){\n",
    "            if (value != null){\n",
    "                System.out.println(value);\n",
    "            }\n",
    "        }\n",
    "    }\n",
    "}\n",
    "Main.main(null);"
   ]
  },
  {
   "cell_type": "markdown",
   "metadata": {},
   "source": [
    "# 3.6\n",
    "\n",
    "* What is !(x == 0) equivalent to?, Apply De Morgan’s Law to find an equivalent expression.\n",
    "\n",
    "x != 0, ( !x != !0)?\n",
    "\n",
    "* Negate the expression (x < -5 || x > 10), Use De Morgan’s Law to rewrite this expression in a different form.\n",
    "\n",
    "(x > -5 && x < 10)"
   ]
  },
  {
   "cell_type": "markdown",
   "metadata": {},
   "source": [
    "# 3.7\n",
    "\n",
    "Yes"
   ]
  }
 ],
 "metadata": {
  "kernelspec": {
   "display_name": "Java",
   "language": "java",
   "name": "java"
  },
  "language_info": {
   "codemirror_mode": "java",
   "file_extension": ".jshell",
   "mimetype": "text/x-java-source",
   "name": "Java",
   "pygments_lexer": "java",
   "version": "17.0.12+7-Ubuntu-1ubuntu222.04"
  }
 },
 "nbformat": 4,
 "nbformat_minor": 2
}
