{
 "cells": [
  {
   "cell_type": "raw",
   "metadata": {
    "vscode": {
     "languageId": "raw"
    }
   },
   "source": [
    "---\n",
    "layout: post\n",
    "title: Blog\n",
    "description: Blog about me\n",
    "permalink: /myBlog\n",
    "comments: true\n",
    "---"
   ]
  },
  {
   "cell_type": "markdown",
   "metadata": {},
   "source": [
    "## Trystan"
   ]
  },
  {
   "cell_type": "markdown",
   "metadata": {},
   "source": [
    "# Java Takeaways"
   ]
  },
  {
   "cell_type": "code",
   "execution_count": null,
   "metadata": {
    "vscode": {
     "languageId": "java"
    }
   },
   "outputs": [],
   "source": [
    "import java.util.ArrayList;\n",
    "\n",
    "class Book{\n",
    "    protected String title;\n",
    "    protected int pages;\n",
    "    protected int words;\n",
    "    \n",
    "\n",
    "    Book(){\n",
    "        this.title = \"{null}\";\n",
    "        this.pages = 0;\n",
    "        this.words = 0;\n",
    "    }\n",
    "\n",
    "    Book(String title){\n",
    "        this.title = title;\n",
    "        this.pages = 0;\n",
    "        this.words = 0; \n",
    "    }\n",
    "\n",
    "    Book(String title, int pages, int words){\n",
    "        this.title = title;\n",
    "        this.pages = 0;\n",
    "        this.words = 0; \n",
    "    }\n",
    "\n",
    "    //getters (final)\n",
    "    public final int getPageCount(){\n",
    "        return this.pages;\n",
    "    }\n",
    "\n",
    "    public final int getWordCount(){\n",
    "        return this.words;\n",
    "    }\n",
    "\n",
    "    public final String getTitle(){\n",
    "        return this.title;\n",
    "    }\n",
    "\n",
    "    //setters\n",
    "    public protected void setPageCount(int pages){\n",
    "        this.pages = pages;\n",
    "    }\n",
    "\n",
    "    public protected void setWordCount(int words){\n",
    "        this.words = words;\n",
    "    }\n",
    "\n",
    "    public protected void setWordCount(String title){\n",
    "        this.title = title;\n",
    "    }\n",
    "}\n",
    "\n",
    "ArrayList<Book> books = new ArrayList();\n",
    "\n",
    "books.add(new Book(\"The Lion, The Witch, and The Wardrobe\", 172, 38421));\n",
    "books.add(new Book(\"Romeo and Juliet\", 5, 24545));\n",
    "books.add(new Book(\"Harry Potter and the Socerer's Stone\", 233, 76944));\n",
    "\n",
    "if(books.get(1).getWordCount() < books.get(2).getWordCount){\n",
    "    System.out.println(books.get(1).getTitle + \" is shorter than \" + books.get(2).getTitle);\n",
    "}"
   ]
  }
 ],
 "metadata": {
  "language_info": {
   "name": "python"
  }
 },
 "nbformat": 4,
 "nbformat_minor": 2
}
