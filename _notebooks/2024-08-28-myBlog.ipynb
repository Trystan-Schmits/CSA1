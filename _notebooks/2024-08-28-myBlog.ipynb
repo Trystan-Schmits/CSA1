{
 "cells": [
  {
   "cell_type": "raw",
   "metadata": {
    "vscode": {
     "languageId": "raw"
    }
   },
   "source": [
    "---\n",
    "layout: post\n",
    "title: Blog\n",
    "description: Blog about me\n",
    "permalink: /myBlog\n",
    "comments: true\n",
    "---"
   ]
  },
  {
   "cell_type": "markdown",
   "metadata": {},
   "source": [
    "## Trystan"
   ]
  },
  {
   "cell_type": "markdown",
   "metadata": {},
   "source": [
    "# Java Takeaways"
   ]
  },
  {
   "cell_type": "markdown",
   "metadata": {},
   "source": [
    "The Code below goes over the different lessons we were taught.\n",
    "\n",
    "* Classes/Objects are shown in the class Book, with the getter, setter, and other methods.\n",
    "* Inheritance and the Object Superclass is shown when I override the implicitly inheriteed method **toString()**\n",
    "* Array Lists and iteration are shown near the bottom when I create an ArrayList of Books.\n",
    "\n",
    "### What I think was most important from our learning\n",
    "\n",
    "* I think the most important things I learned about were overloading constructors and arraylists, \n",
    "    * Overloading constuctors allws me to create objects with a default, and then with peramaters depending on the situtation that is needed.\n",
    "    * ArrayLists are helpful to learn about becuase it is a class I am likely to use a lot, the ability to change around arrays, in a similar way to lists is great."
   ]
  },
  {
   "cell_type": "code",
   "execution_count": 1,
   "metadata": {
    "vscode": {
     "languageId": "java"
    }
   },
   "outputs": [
    {
     "name": "stdout",
     "output_type": "stream",
     "text": [
      "Romeo and Juliet is shorter than Harry Potter and the Socerer's Stone\n",
      "[Romeo and Juliet, pages: 5, words: 24545, The Lion, The Witch, and The Wardrobe, pages: 172, words: 38421, Harry Potter and the Socerer's Stone, pages: 233, words: 76944]\n"
     ]
    }
   ],
   "source": [
    "import java.util.ArrayList;\n",
    "\n",
    "public class Book{\n",
    "    protected String title;\n",
    "    protected int pages;\n",
    "    protected int words;\n",
    "    \n",
    "    //default constuctor\n",
    "    Book(){\n",
    "        this.title = \"{null}\";\n",
    "        this.pages = 0;\n",
    "        this.words = 0;\n",
    "    }\n",
    "\n",
    "    // constuctor with only a title\n",
    "    Book(String title){\n",
    "        this.title = title;\n",
    "        this.pages = 0;\n",
    "        this.words = 0; \n",
    "    }\n",
    "\n",
    "    //constuctor with all arguments\n",
    "    Book(String title, int pages, int words){\n",
    "        this.title = title;\n",
    "        this.pages = pages;\n",
    "        this.words = words; \n",
    "    }\n",
    "\n",
    "    //getters (final because I don't want any children to change them)\n",
    "    public final int getPageCount(){\n",
    "        return this.pages;\n",
    "    }\n",
    "\n",
    "    public final int getWordCount(){\n",
    "        return this.words;\n",
    "    }\n",
    "\n",
    "    public final String getTitle(){\n",
    "        return this.title;\n",
    "    }\n",
    "\n",
    "    //setters (not finalized, so children can override them if needed)\n",
    "    public void setPageCount(int pages){\n",
    "        this.pages = pages;\n",
    "    }\n",
    "\n",
    "    public void setWordCount(int words){\n",
    "        this.words = words;\n",
    "    }\n",
    "\n",
    "    public void setTitle(String title){\n",
    "        this.title = title;\n",
    "    }\n",
    "\n",
    "    //override toString to return relavent information about the instance\n",
    "    @Override\n",
    "    public String toString(){\n",
    "        return this.title + \", pages: \" + this.pages + \", words: \" + this.words;\n",
    "    }\n",
    "}\n",
    "\n",
    "//array list with type book, so that I can add any number of books\n",
    "ArrayList<Book> books = new ArrayList(); \n",
    "\n",
    "//add some books, and yes I did look up the acutal word/page counts\n",
    "books.add(new Book(\"The Lion, The Witch, and The Wardrobe\", 172, 38421));\n",
    "//I gave the play 5 pages for its 5 parts, but it may have been better to create a subclass specically for this one\n",
    "books.add(new Book(\"Romeo and Juliet\", 5, 24545)); \n",
    "books.add(new Book(\"Harry Potter and the Socerer's Stone\", 233, 76944));\n",
    "\n",
    "if(books.get(1).getWordCount() < books.get(2).getWordCount()){\n",
    "    System.out.println(books.get(1).getTitle() + \" is shorter than \" + books.get(2).getTitle());\n",
    "}\n",
    "\n",
    "//I think this is a Bubble Sort, it sorts the books in a given array by the number of words\n",
    "ArrayList<Book> SortByWords(ArrayList<Book> array){\n",
    "    boolean complete = false;\n",
    "    while (!complete){\n",
    "        for(int i = 1; i < array.size(); i++){\n",
    "            if(array.get(i-1).getWordCount() > array.get(i).getWordCount()){\n",
    "                Book temp = array.get(i-1);\n",
    "                array.remove(i-1);\n",
    "                array.add(i,temp);\n",
    "                break;\n",
    "            }\n",
    "            else if (i == array.size() - 1){\n",
    "                complete = true;\n",
    "            }\n",
    "        }\n",
    "    }\n",
    "    return array;\n",
    "};\n",
    "\n",
    "books = SortByWords(books);\n",
    "\n",
    "// Fun way to print out an arraylist, first converts it to an array, then uses the Arrays.toString we learned about\n",
    "System.out.println(Arrays.toString(books.toArray()));"
   ]
  },
  {
   "cell_type": "markdown",
   "metadata": {},
   "source": [
    "## my lesson\n",
    "My Lesson was on Inheritance, and I specifically taught Polymorphism and the Object superclass. To demonstrate my knowelge very simply, I created a subclass to the previous book class, which I would use for polymorphism.\n",
    "\n",
    "I also wanted to disply some basic knowelege of static variables, so I had the constuctor increment the book count each time a new instance is created."
   ]
  },
  {
   "cell_type": "code",
   "execution_count": 9,
   "metadata": {
    "vscode": {
     "languageId": "java"
    }
   },
   "outputs": [
    {
     "name": "stdout",
     "output_type": "stream",
     "text": [
      "The Endless Archive Arises...\n",
      "The Endless Archive Arises...\n",
      "2\n"
     ]
    }
   ],
   "source": [
    "class Textbook extends Book{\n",
    "    static public int bookCount = 0;\n",
    "\n",
    "    Textbook(){\n",
    "        this.pages = Integer.MAX_VALUE; //it should be as large as possible for an integer\n",
    "        this.words = Integer.MAX_VALUE; //same for the words\n",
    "        this.title = \"The Endless Texts\";\n",
    "\n",
    "        Textbook.bookCount +=1;\n",
    "    }\n",
    "\n",
    "    @Override\n",
    "    public String toString(){ //this will be my polymorphic method\n",
    "        return \"The Endless Archive Arises...\";\n",
    "    }\n",
    "}\n",
    "\n",
    "Book myTextile = new Textbook(); //polymorphism :)\n",
    "Object myTextileObject = new Textbook(); //Object Superclass Polymorphism (Super Morphism :D)\n",
    "\n",
    "System.out.println(myTextile.toString());// executes the textbook toString() method at runtime\n",
    "System.out.println(myTextileObject.toString());// executes the textbook toString() method at runtime\n",
    "System.out.println(Textbook.bookCount);"
   ]
  },
  {
   "cell_type": "markdown",
   "metadata": {},
   "source": [
    "## More stuff about my lesson\n",
    "While I was creating the lesson, I made some images to replace explaing as much. But there was an image that I actually didn't include in the final lesson becuase I didn't think I would nor needed to have time for it.\n",
    "\n",
    "![Polymorhpishm Choices](https://raw.githubusercontent.com/iKAN2025/CSATri1Group/refs/heads/main/_notebooks/Foundation/Unit_9_images/polymorphismChoices.png)\n",
    "\n",
    "This image was created to show what static types could use which classes as references, but I didn't think was required for the lesson to go smoothly, so to aviod having more clutter on a difficult lesson I didn't use it.\n",
    "\n",
    "The Solid lines in the lesson show which static type the constuctor is based on. The dashed lines show which constuctors you could use polymorphically for the static type. FInally the crossed out lines show examples of where you couldn't use the constucotrfor the typing."
   ]
  }
 ],
 "metadata": {
  "kernelspec": {
   "display_name": "Java",
   "language": "java",
   "name": "java"
  },
  "language_info": {
   "codemirror_mode": "java",
   "file_extension": ".jshell",
   "mimetype": "text/x-java-source",
   "name": "Java",
   "pygments_lexer": "java",
   "version": "17.0.12+7-Ubuntu-1ubuntu222.04"
  }
 },
 "nbformat": 4,
 "nbformat_minor": 2
}
