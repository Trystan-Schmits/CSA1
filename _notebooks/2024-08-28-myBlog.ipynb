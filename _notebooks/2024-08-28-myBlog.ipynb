{
 "cells": [
  {
   "cell_type": "raw",
   "metadata": {
    "vscode": {
     "languageId": "raw"
    }
   },
   "source": [
    "---\n",
    "layout: post\n",
    "title: Blog\n",
    "description: Blog about me\n",
    "permalink: /myBlog\n",
    "comments: true\n",
    "---"
   ]
  },
  {
   "cell_type": "markdown",
   "metadata": {},
   "source": [
    "## Trystan"
   ]
  },
  {
   "cell_type": "markdown",
   "metadata": {},
   "source": [
    "# Java Takeaways"
   ]
  },
  {
   "cell_type": "code",
   "execution_count": 23,
   "metadata": {
    "vscode": {
     "languageId": "java"
    }
   },
   "outputs": [
    {
     "name": "stdout",
     "output_type": "stream",
     "text": [
      "Romeo and Juliet is shorter than Harry Potter and the Socerer's Stone\n",
      "[Romeo and Juliet, pages: 5, words: 24545, The Lion, The Witch, and The Wardrobe, pages: 172, words: 38421, Harry Potter and the Socerer's Stone, pages: 233, words: 76944]\n"
     ]
    }
   ],
   "source": [
    "import java.util.ArrayList;\n",
    "\n",
    "class Book{\n",
    "    protected String title;\n",
    "    protected int pages;\n",
    "    protected int words;\n",
    "    \n",
    "\n",
    "    Book(){\n",
    "        this.title = \"{null}\";\n",
    "        this.pages = 0;\n",
    "        this.words = 0;\n",
    "    }\n",
    "\n",
    "    Book(String title){\n",
    "        this.title = title;\n",
    "        this.pages = 0;\n",
    "        this.words = 0; \n",
    "    }\n",
    "\n",
    "    Book(String title, int pages, int words){\n",
    "        this.title = title;\n",
    "        this.pages = pages;\n",
    "        this.words = words; \n",
    "    }\n",
    "\n",
    "    //getters (final)\n",
    "    public final int getPageCount(){\n",
    "        return this.pages;\n",
    "    }\n",
    "\n",
    "    public final int getWordCount(){\n",
    "        return this.words;\n",
    "    }\n",
    "\n",
    "    public final String getTitle(){\n",
    "        return this.title;\n",
    "    }\n",
    "\n",
    "    //setters\n",
    "    public void setPageCount(int pages){\n",
    "        this.pages = pages;\n",
    "    }\n",
    "\n",
    "    public void setWordCount(int words){\n",
    "        this.words = words;\n",
    "    }\n",
    "\n",
    "    public void setTitle(String title){\n",
    "        this.title = title;\n",
    "    }\n",
    "\n",
    "    @Override\n",
    "    public String toString(){\n",
    "        return this.title + \", pages: \" + this.pages + \", words: \" + this.words;\n",
    "    }\n",
    "}\n",
    "\n",
    "ArrayList<Book> books = new ArrayList();\n",
    "\n",
    "books.add(new Book(\"The Lion, The Witch, and The Wardrobe\", 172, 38421));\n",
    "books.add(new Book(\"Romeo and Juliet\", 5, 24545));\n",
    "books.add(new Book(\"Harry Potter and the Socerer's Stone\", 233, 76944));\n",
    "\n",
    "if(books.get(1).getWordCount() < books.get(2).getWordCount()){\n",
    "    System.out.println(books.get(1).getTitle() + \" is shorter than \" + books.get(2).getTitle());\n",
    "}\n",
    "\n",
    "ArrayList<Book> SortByWords(ArrayList<Book> array){\n",
    "    boolean complete = false;\n",
    "    while (!complete){\n",
    "        for(int i = 1; i < array.size(); i++){\n",
    "            if(array.get(i-1).getWordCount() > array.get(i).getWordCount()){\n",
    "                Book temp = array.get(i-1);\n",
    "                array.remove(i-1);\n",
    "                array.add(i,temp);\n",
    "                break;\n",
    "            }\n",
    "            else if (i == array.size() - 1){\n",
    "                complete = true;\n",
    "            }\n",
    "        }\n",
    "    }\n",
    "    return array;\n",
    "};\n",
    "\n",
    "books = SortByWords(books);\n",
    "\n",
    "System.out.println(Arrays.toString(books.toArray()));"
   ]
  }
 ],
 "metadata": {
  "kernelspec": {
   "display_name": "Java",
   "language": "java",
   "name": "java"
  },
  "language_info": {
   "codemirror_mode": "java",
   "file_extension": ".jshell",
   "mimetype": "text/x-java-source",
   "name": "Java",
   "pygments_lexer": "java",
   "version": "17.0.12+7-Ubuntu-1ubuntu222.04"
  }
 },
 "nbformat": 4,
 "nbformat_minor": 2
}
