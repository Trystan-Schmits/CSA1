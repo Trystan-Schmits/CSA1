{
 "cells": [
  {
   "cell_type": "code",
   "execution_count": null,
   "id": "6e635b73",
   "metadata": {
    "vscode": {
     "languageId": "java"
    }
   },
   "outputs": [],
   "source": [
    "\n",
    "import java.util.*;\n",
    "\n",
    "class ArrayListClass{\n",
    "    public static void main(String[] args){\n",
    "        ArrayList<Integer> list = new ArrayList<Integer>(0);\n",
    "\n",
    "        //add 10 random values to the list\n",
    "        for(int i = 0; i<10; i++){\n",
    "            list.add(Integer.valueOf((int)(Math.random() * 100)));\n",
    "        };\n",
    "\n",
    "        System.out.println(list);\n",
    "\n",
    "        list.sort(null); //sort by default, (least to greatest)\n",
    "\n",
    "        System.out.println(list);\n",
    "\n",
    "        list.removeIf(j->(j.intValue()%2==1)); //remove odd values\n",
    "\n",
    "        System.out.println(list);\n",
    "    }\n",
    "}\n",
    "\n",
    "ArrayListClass.main(null);"
   ]
  },
  {
   "cell_type": "code",
   "execution_count": null,
   "id": "e3f5b760",
   "metadata": {
    "vscode": {
     "languageId": "java"
    }
   },
   "outputs": [],
   "source": [
    "import java.util.*;\n",
    "\n",
    "class Queueing {\n",
    "    public static void main(String[] args) {\n",
    "        ArrayDeque<Integer> deque = new ArrayDeque<>();\n",
    "\n",
    "        for(int i=0; i<20; i++){\n",
    "            if(i%2 == 0){\n",
    "                deque.addFirst(i);\n",
    "            }else{\n",
    "                deque.addLast(i);\n",
    "            }\n",
    "        }\n",
    "        System.out.println(deque.toString());\n",
    "\n",
    "        for(int i=0; i<20; i++){\n",
    "            if(i%2 == 0){\n",
    "                deque.removeFirst();\n",
    "            }else{\n",
    "                deque.removeLast();\n",
    "            }\n",
    "        }\n",
    "\n",
    "        System.out.println(deque.size());\n",
    "    }\n",
    "}\n",
    "\n",
    "Queueing.main(null);"
   ]
  },
  {
   "cell_type": "code",
   "execution_count": null,
   "id": "b3db2004",
   "metadata": {
    "vscode": {
     "languageId": "java"
    }
   },
   "outputs": [],
   "source": [
    "import java.util.*;\n",
    "\n",
    "class Hashing {\n",
    "    static String getKeyFromValue(HashMap<String,String> map, String value){\n",
    "        String result = \"\";\n",
    "        Iterator<String> mapKeys = map.keySet().iterator();\n",
    "        while(mapKeys.hasNext()){\n",
    "            String key = mapKeys.next();\n",
    "\n",
    "            if(map.get(key).equals(value)){\n",
    "                return key;\n",
    "            }\n",
    "\n",
    "        }\n",
    "        return null;\n",
    "    }\n",
    "\n",
    "    public static void main(String[] args){\n",
    "        HashMap<String,String> map = new HashMap<>();\n",
    "\n",
    "        map.put(\"Person 1\",\"123456789\");\n",
    "        map.put(\"Person 2\",\"192837465\");\n",
    "        map.put(\"Person 3\",\"987654321\");\n",
    "        map.put(\"Person 4\",\"123465789\");\n",
    "        map.put(\"Person 5\",\"543216789\");\n",
    "\n",
    "\n",
    "        System.out.println(Hashing.getKeyFromValue(map, \"543216789\"));\n",
    "    }\n",
    "}\n",
    "\n",
    "Hashing.main(null);"
   ]
  }
 ],
 "metadata": {
  "language_info": {
   "name": "python"
  }
 },
 "nbformat": 4,
 "nbformat_minor": 5
}
