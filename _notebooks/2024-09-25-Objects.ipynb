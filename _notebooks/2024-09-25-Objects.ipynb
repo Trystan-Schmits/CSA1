{
 "cells": [
  {
   "cell_type": "raw",
   "metadata": {},
   "source": [
    "---\n",
    "layout: post\n",
    "title: Objects\n",
    "description: popcorn hacks for objects\n",
    "permalink: /objects\n",
    "comments: true\n",
    "---"
   ]
  },
  {
   "cell_type": "code",
   "execution_count": 2,
   "metadata": {
    "vscode": {
     "languageId": "java"
    }
   },
   "outputs": [
    {
     "name": "stdout",
     "output_type": "stream",
     "text": [
      "Woof!\n"
     ]
    }
   ],
   "source": [
    "class Dog {\n",
    "    public String name;\n",
    "    public String breed;\n",
    "    public int age;\n",
    "\n",
    "    public Dog(String name, String breed, int age){\n",
    "        this.name = name;\n",
    "        this.breed = breed;\n",
    "        this.age = age;\n",
    "    }\n",
    "\n",
    "    public void bark(){\n",
    "        System.out.println(\"Woof!\");\n",
    "    }\n",
    "}\n",
    "\n",
    "public class Main {\n",
    "    public static void main(String[] args) {\n",
    "        Dog myDog = new Dog(\"Shelby\", \"Golden Retriever\", 5); // name, breed, age\n",
    "        myDog.bark(); // should print \"Woof!\"\n",
    "    }\n",
    "}\n",
    "\n",
    "Main.main(null);"
   ]
  },
  {
   "cell_type": "code",
   "execution_count": 3,
   "metadata": {
    "vscode": {
     "languageId": "java"
    }
   },
   "outputs": [
    {
     "name": "stdout",
     "output_type": "stream",
     "text": [
      "Star Wars\n"
     ]
    }
   ],
   "source": [
    "class Movie{\n",
    "    public String title;\n",
    "    \n",
    "    public Movie(String title){\n",
    "        this.title = title;\n",
    "    }\n",
    "\n",
    "    public void printTitle(){\n",
    "        System.out.println(this.title);\n",
    "    }\n",
    "}\n",
    "\n",
    "Movie myMovie = new Movie(\"Star Wars\");\n",
    "myMovie.printTitle();"
   ]
  },
  {
   "cell_type": "code",
   "execution_count": 13,
   "metadata": {
    "vscode": {
     "languageId": "java"
    }
   },
   "outputs": [
    {
     "name": "stdout",
     "output_type": "stream",
     "text": [
      "Sum of integers: 125\n",
      "Product of doubles: 8.53452\n"
     ]
    }
   ],
   "source": [
    "public class Main {\n",
    "    public static void main(String[] args) {\n",
    "        Integer num1 = 50;\n",
    "        Integer num2 = new Integer(75);\n",
    "        \n",
    "        Double d1 = 3.14;\n",
    "        double d2 = new Double(2.718);\n",
    "        \n",
    "        System.out.println(\"Sum of integers: \" + (num1 + num2));\n",
    "        System.out.println(\"Product of doubles: \" + (d1 * d2));\n",
    "    }\n",
    "}\n",
    "Main.main(null);"
   ]
  },
  {
   "cell_type": "code",
   "execution_count": 14,
   "metadata": {
    "vscode": {
     "languageId": "java"
    }
   },
   "outputs": [
    {
     "name": "stdout",
     "output_type": "stream",
     "text": [
      "123\n",
      "123.45\n"
     ]
    }
   ],
   "source": [
    "public class Main {\n",
    "    public static void main(String[] args) {\n",
    "        // TODO: Create an Integer object using autoboxing\n",
    "        Integer myInteger = Integer.valueOf(123);\n",
    "\n",
    "        // TODO: Create a double primitive from a Double object (unboxing)\n",
    "        double myDouble = (new Double(123.45)).doubleValue();\n",
    "\n",
    "        // TODO: Print both values\n",
    "        System.out.println(myInteger);\n",
    "        System.out.println(myDouble);\n",
    "    }\n",
    "}\n",
    "Main.main(null);"
   ]
  },
  {
   "cell_type": "code",
   "execution_count": 22,
   "metadata": {
    "vscode": {
     "languageId": "java"
    }
   },
   "outputs": [
    {
     "name": "stdout",
     "output_type": "stream",
     "text": [
      "a: 2.0\n",
      "b: 5.0\n",
      "3.5490194837027325\n"
     ]
    }
   ],
   "source": [
    "import java.util.*;\n",
    "public class Main {\n",
    "    public static double randomize(double a, double b){\n",
    "            return Math.random() * (b-a) + a;\n",
    "    }\n",
    "    public static void main(String[] args) {\n",
    "       Scanner scan = new Scanner(System.in);\n",
    "       double a = scan.nextDouble();\n",
    "       double b = scan.nextDouble();\n",
    "\n",
    "       System.out.println(\"a: \"+(new Double(a)).toString());\n",
    "       System.out.println(\"b: \"+(new Double(b)).toString());\n",
    "       System.out.println(randomize(a, b));\n",
    "    }\n",
    "}\n",
    "\n",
    "Main.main(null);"
   ]
  },
  {
   "cell_type": "code",
   "execution_count": 12,
   "metadata": {
    "vscode": {
     "languageId": "java"
    }
   },
   "outputs": [
    {
     "name": "stdout",
     "output_type": "stream",
     "text": [
      "Circle 1:\n",
      "Radius: 5.0\n",
      "Circumference: 31.41592653589793\n",
      "Area: 78.53981633974483\n",
      "\n",
      "Circle 2:\n",
      "Radius: 7.0\n",
      "Circumference: 43.982297150257104\n",
      "Area: 153.93804002589985\n",
      "\n",
      "Student 1:\n",
      "Name: Aadit\n",
      "Name Length: 5\n",
      "Grade: 75.0\n",
      "Scaled Grade: 37.5\n",
      "\n",
      "Student 2:\n",
      "Name: Emily\n",
      "Name Length: 5\n",
      "Grade: 45.0\n",
      "Scaled Grade: 22.5\n"
     ]
    }
   ],
   "source": [
    "public class Circle {\n",
    "    public double radius;\n",
    "\n",
    "    public Circle(double radius){\n",
    "        this.radius = radius;\n",
    "    }\n",
    "    public double circumference(){\n",
    "        return Math.PI * this.radius * 2;\n",
    "    }\n",
    "\n",
    "    public double area(){\n",
    "        return Math.PI * Math.pow(this.radius,2) ;\n",
    "    }\n",
    "}\n",
    "\n",
    "public class Student {\n",
    "    public String name;\n",
    "    public Integer grade;\n",
    "    // 1. Class variables: name (String) and grade (Integer)\n",
    "\n",
    "    public Student(String name, Integer grade){\n",
    "        this.name = name;\n",
    "        this.grade = grade;\n",
    "    }\n",
    "\n",
    "    public Student(String name, int grade){\n",
    "        this.name = name;\n",
    "        this.grade = new Integer(grade);\n",
    "    }\n",
    "    // 2. Constructor to initialize name and grade\n",
    "\n",
    "    public int nameLength(){\n",
    "        return this.name.length();\n",
    "    }\n",
    "    // 3. nameLength() method: Return the length of the student's name\n",
    "\n",
    "    public Double getGradeAsDouble(){\n",
    "        return new Double (this.grade.doubleValue());\n",
    "    }\n",
    "    // 4. getGradeAsDouble() method: Return the grade as the Double wrapper type\n",
    "\n",
    "    public double getScaledGrade(){\n",
    "        return this.grade.doubleValue() / 2;\n",
    "    }\n",
    "    // 5. getScaledGrade() method: Return grade divided by 2\n",
    "}\n",
    "\n",
    "public class Main {\n",
    "    public static void main(String[] args) {\n",
    "        // Testing the Circle class\n",
    "        Circle circle1 = new Circle(5.0);\n",
    "        Circle circle2 = new Circle(7.0);\n",
    "\n",
    "        System.out.println(\"Circle 1:\");\n",
    "        System.out.println(\"Radius: \" + circle1.radius);\n",
    "        System.out.println(\"Circumference: \" + circle1.circumference());\n",
    "        System.out.println(\"Area: \" + circle1.area());\n",
    "\n",
    "        System.out.println(\"\\nCircle 2:\");\n",
    "        System.out.println(\"Radius: \" + circle2.radius);\n",
    "        System.out.println(\"Circumference: \" + circle2.circumference());\n",
    "        System.out.println(\"Area: \" + circle2.area());\n",
    "\n",
    "        // Testing the Student class\n",
    "        Student student1 = new Student(\"Aadit\", 75);\n",
    "        Student student2 = new Student(\"Emily\", 45);\n",
    "\n",
    "        System.out.println(\"\\nStudent 1:\");\n",
    "        System.out.println(\"Name: \" + student1.name);\n",
    "        System.out.println(\"Name Length: \" + student1.nameLength());\n",
    "        System.out.println(\"Grade: \" + student1.getGradeAsDouble());\n",
    "        System.out.println(\"Scaled Grade: \" + student1.getScaledGrade());\n",
    "\n",
    "        System.out.println(\"\\nStudent 2:\");\n",
    "        System.out.println(\"Name: \" + student2.name);\n",
    "        System.out.println(\"Name Length: \" + student2.nameLength());\n",
    "        System.out.println(\"Grade: \" + student2.getGradeAsDouble());\n",
    "        System.out.println(\"Scaled Grade: \" + student2.getScaledGrade());\n",
    "    }\n",
    "}\n",
    "\n",
    "Main.main(null);"
   ]
  }
 ],
 "metadata": {
  "kernelspec": {
   "display_name": "Java",
   "language": "java",
   "name": "java"
  },
  "language_info": {
   "codemirror_mode": "java",
   "file_extension": ".jshell",
   "mimetype": "text/x-java-source",
   "name": "Java",
   "pygments_lexer": "java",
   "version": "17.0.12+7-Ubuntu-1ubuntu222.04"
  }
 },
 "nbformat": 4,
 "nbformat_minor": 2
}
