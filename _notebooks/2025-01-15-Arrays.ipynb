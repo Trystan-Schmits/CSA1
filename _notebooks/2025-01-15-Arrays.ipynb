{
 "cells": [
  {
   "cell_type": "markdown",
   "metadata": {},
   "source": [
    "## Warmup Sort ArrayList"
   ]
  },
  {
   "cell_type": "code",
   "execution_count": 18,
   "metadata": {
    "vscode": {
     "languageId": "java"
    }
   },
   "outputs": [
    {
     "name": "stdout",
     "output_type": "stream",
     "text": [
      "[-2, 1, 3, 4]\n"
     ]
    }
   ],
   "source": [
    "import java.util.ArrayList;\n",
    "ArrayList list = new ArrayList();\n",
    "list.add(1);\n",
    "list.add(3);\n",
    "list.add(-2);\n",
    "list.add(4);\n",
    "\n",
    "list.sort(null);\n",
    "\n",
    "System.out.println(Arrays.toString(list.toArray()));"
   ]
  },
  {
   "cell_type": "markdown",
   "metadata": {},
   "source": [
    "## Homework"
   ]
  },
  {
   "cell_type": "code",
   "execution_count": null,
   "metadata": {
    "vscode": {
     "languageId": "java"
    }
   },
   "outputs": [
    {
     "ename": "CompilationException",
     "evalue": "",
     "output_type": "error",
     "traceback": [
      "\u001b[1m\u001b[30m|   \u001b[1m\u001b[30m    ArrayList temp = \u001b[0m\u001b[1m\u001b[30m\u001b[41moutput.asList\u001b[0m\u001b[1m\u001b[30m();\u001b[0m",
      "\u001b[1m\u001b[31mcannot find symbol\u001b[0m",
      "\u001b[1m\u001b[31m  symbol:   method asList()\u001b[0m",
      "",
      "\u001b[1m\u001b[30m|   \u001b[1m\u001b[30m    \u001b[0m\u001b[1m\u001b[30m\u001b[41mtemp.sort(null)\u001b[0m\u001b[1m\u001b[30m;\u001b[0m",
      "\u001b[1m\u001b[31munchecked call to sort(java.util.Comparator<? super E>) as a member of the raw type java.util.ArrayList\u001b[0m",
      "",
      "\u001b[1m\u001b[30m|   \u001b[1m\u001b[30m    return \u001b[0m\u001b[1m\u001b[30m\u001b[41mtemp.toArray()\u001b[0m\u001b[1m\u001b[30m;\u001b[0m",
      "\u001b[1m\u001b[31mincompatible types: java.lang.Object[] cannot be converted to int[]\u001b[0m",
      ""
     ]
    }
   ],
   "source": [
    "import java.util.ArrayList;\n",
    "ArrayList<ArrayList> generateMatrix(int n){\n",
    "    ArrayList<ArrayList> list = new ArrayList();\n",
    "    for (int i = 0; i<n; i++){\n",
    "        ArrayList innerListI = new ArrayList();\n",
    "        list.add(innerListI);\n",
    "        System.out.println(\"\");\n",
    "        for (int j = 0; j<n; j++){\n",
    "            int random = (int)(Math.random() + .5);\n",
    "            innerListI.add(random);\n",
    "            System.out.print(random);\n",
    "        }\n",
    "    }\n",
    "    System.out.println(\"\");\n",
    "    return list;\n",
    "}\n",
    "\n",
    "int[] largestRowIndexes(ArrayList<ArrayList> matrix){\n",
    "    int height = matrix.size();\n",
    "    int width = matrix.get(0).size();\n",
    "    int[] output = new int[height];\n",
    "    int index = 0;\n",
    "    for(int a:output){\n",
    "        output[index] = -1;\n",
    "        index++;\n",
    "    }\n",
    "\n",
    "\n",
    "    int max = 0;\n",
    "    for(int i = 0; i<height;i++){\n",
    "        int sum = 0;\n",
    "        for(int j = 0; j<width;j++){\n",
    "            sum += (int)matrix.get(i).get(j);\n",
    "        }\n",
    "        if(sum > max){\n",
    "            max = sum;\n",
    "            output = new int[height];\n",
    "            index = 0;\n",
    "            for(int a:output){\n",
    "                output[index] = -1;\n",
    "                index++;\n",
    "            }\n",
    "            output[0] = i;\n",
    "        }\n",
    "        else if (sum == max){\n",
    "            output[i]=i;\n",
    "        }\n",
    "        \n",
    "    }\n",
    "    return output;\n",
    "}\n",
    "int[] largestColumnIndexes(ArrayList<ArrayList> matrix){\n",
    "    int height = matrix.size();\n",
    "    int width = matrix.get(0).size();\n",
    "    int[] output = new int[height];\n",
    "    int index = 0;\n",
    "    for(int a:output){\n",
    "        output[index] = -1;\n",
    "        index++;\n",
    "    }\n",
    "\n",
    "\n",
    "    int max = 0;\n",
    "    for(int j = 0; j<height;j++){\n",
    "        int sum = 0;\n",
    "        for(int i = 0; i<width;i++){\n",
    "            sum += (int)matrix.get(i).get(j);\n",
    "        }\n",
    "        if(sum > max){\n",
    "            max = sum;\n",
    "            output = new int[height];\n",
    "            index = 0;\n",
    "            for(int a:output){\n",
    "                output[index] = -1;\n",
    "                index++;\n",
    "            }\n",
    "            output[0] = j;\n",
    "        }\n",
    "        else if (sum == max){\n",
    "            output[j]=j;\n",
    "        }\n",
    "    }\n",
    "\n",
    "    return output;\n",
    "}\n",
    "\n",
    "class main {\n",
    "    public static void main(String[] args){\n",
    "        ArrayList<ArrayList> matrix = generateMatrix(10);\n",
    "\n",
    "\n",
    "        System.out.println(Arrays.toString(largestRowIndexes(matrix)));\n",
    "        System.out.println(Arrays.toString(largestColumnIndexes(matrix)));\n",
    "    }\n",
    "}\n",
    "\n",
    "main.main(null);"
   ]
  }
 ],
 "metadata": {
  "kernelspec": {
   "display_name": "Java",
   "language": "java",
   "name": "java"
  },
  "language_info": {
   "codemirror_mode": "java",
   "file_extension": ".jshell",
   "mimetype": "text/x-java-source",
   "name": "Java",
   "pygments_lexer": "java",
   "version": "17.0.13+11-Ubuntu-2ubuntu122.04"
  }
 },
 "nbformat": 4,
 "nbformat_minor": 2
}
