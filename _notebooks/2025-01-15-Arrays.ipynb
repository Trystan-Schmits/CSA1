{
 "cells": [
  {
   "cell_type": "markdown",
   "metadata": {},
   "source": [
    "---\n",
    "layout: post\n",
    "title: FRQ \\ Arrays/Arraylist\n",
    "categories: [AP CSA]\n",
    "permalink: /array-homework\n",
    "---"
   ]
  },
  {
   "cell_type": "markdown",
   "metadata": {},
   "source": [
    "## Warmup Sort ArrayList"
   ]
  },
  {
   "cell_type": "code",
   "execution_count": 18,
   "metadata": {
    "vscode": {
     "languageId": "java"
    }
   },
   "outputs": [
    {
     "name": "stdout",
     "output_type": "stream",
     "text": [
      "[-2, 1, 3, 4]\n"
     ]
    }
   ],
   "source": [
    "import java.util.ArrayList;\n",
    "ArrayList list = new ArrayList();\n",
    "list.add(1);\n",
    "list.add(3);\n",
    "list.add(-2);\n",
    "list.add(4);\n",
    "\n",
    "list.sort(null);\n",
    "\n",
    "System.out.println(Arrays.toString(list.toArray()));"
   ]
  },
  {
   "cell_type": "markdown",
   "metadata": {},
   "source": [
    "## Homework"
   ]
  },
  {
   "cell_type": "code",
   "execution_count": 9,
   "metadata": {
    "vscode": {
     "languageId": "java"
    }
   },
   "outputs": [
    {
     "name": "stdout",
     "output_type": "stream",
     "text": [
      "the random matrix is: \n",
      "\n",
      "0111000111\n",
      "1101000101\n",
      "0011101111\n",
      "1111100010\n",
      "1111000110\n",
      "1100000000\n",
      "1010010010\n",
      "0011101000\n",
      "1101011100\n",
      "1101110001\n",
      "The rows (indexes) with the most 1s are: [2]\n",
      "The columns (indexes) with the most 1s are: [3]\n"
     ]
    }
   ],
   "source": [
    "import java.util.ArrayList;\n",
    "import java.util.Arrays;\n",
    "ArrayList<ArrayList> generateMatrix(int n){\n",
    "    System.out.println(\"the random matrix is: \");\n",
    "    ArrayList<ArrayList> list = new ArrayList();\n",
    "    for (int i = 0; i<n; i++){\n",
    "        ArrayList innerListI = new ArrayList();\n",
    "        list.add(innerListI);\n",
    "        System.out.println(\"\");\n",
    "        for (int j = 0; j<n; j++){\n",
    "            int random = (int)(Math.random() + .5);\n",
    "            innerListI.add(random);\n",
    "            System.out.print(random);\n",
    "        }\n",
    "    }\n",
    "    System.out.println(\"\");\n",
    "    return list;\n",
    "}\n",
    "\n",
    "int[] cleanArray(int[] arrayToClean){\n",
    "    ArrayList<Integer> list = new ArrayList<Integer>();\n",
    "    for(int v : arrayToClean){\n",
    "        list.add(Integer.valueOf(v));\n",
    "    }\n",
    "    list.removeIf(n-> (n==-1));\n",
    "    int[] arrayToPopulate = new int[list.size()];\n",
    "    for(int i = 0; i<list.size();i++){\n",
    "        arrayToPopulate[i] = list.get(i);\n",
    "    }\n",
    "    return arrayToPopulate; \n",
    "}\n",
    "\n",
    "int[] largestRowIndexes(ArrayList<ArrayList> matrix){\n",
    "    int height = matrix.size();\n",
    "    int width = matrix.get(0).size();\n",
    "    int[] output = new int[height];\n",
    "    int index = 0;\n",
    "    for(int a:output){\n",
    "        output[index] = -1;\n",
    "        index++;\n",
    "    }\n",
    "\n",
    "\n",
    "    int max = 0;\n",
    "    for(int i = 0; i<height;i++){\n",
    "        int sum = 0;\n",
    "        for(int j = 0; j<width;j++){\n",
    "            sum += (int)matrix.get(i).get(j);\n",
    "        }\n",
    "        if(sum > max){\n",
    "            max = sum;\n",
    "            output = new int[height];\n",
    "            index = 0;\n",
    "            for(int a:output){\n",
    "                output[index] = -1;\n",
    "                index++;\n",
    "            }\n",
    "            output[0] = i;\n",
    "        }\n",
    "        else if (sum == max){\n",
    "            output[i]=i;\n",
    "        }\n",
    "        \n",
    "    }\n",
    "    return cleanArray(output);\n",
    "}\n",
    "int[] largestColumnIndexes(ArrayList<ArrayList> matrix){\n",
    "    int height = matrix.size();\n",
    "    int width = matrix.get(0).size();\n",
    "    int[] output = new int[height];\n",
    "    int index = 0;\n",
    "    for(int a:output){\n",
    "        output[index] = -1;\n",
    "        index++;\n",
    "    }\n",
    "\n",
    "\n",
    "    int max = 0;\n",
    "    for(int j = 0; j<height;j++){\n",
    "        int sum = 0;\n",
    "        for(int i = 0; i<width;i++){\n",
    "            sum += (int)matrix.get(i).get(j);\n",
    "        }\n",
    "        if(sum > max){\n",
    "            max = sum;\n",
    "            output = new int[height];\n",
    "            index = 0;\n",
    "            for(int a:output){\n",
    "                output[index] = -1;\n",
    "                index++;\n",
    "            }\n",
    "            output[0] = j;\n",
    "        }\n",
    "        else if (sum == max){\n",
    "            output[j]=j;\n",
    "        }\n",
    "    }\n",
    "\n",
    "\n",
    "    return cleanArray(output);\n",
    "}\n",
    "\n",
    "class main {\n",
    "    public static void main(String[] args){\n",
    "        ArrayList<ArrayList> matrix = generateMatrix(10);\n",
    "\n",
    "\n",
    "        System.out.println(\"The rows (indexes) with the most 1s are: \"+Arrays.toString(largestRowIndexes(matrix)));\n",
    "        System.out.println(\"The columns (indexes) with the most 1s are: \"+Arrays.toString(largestColumnIndexes(matrix)));\n",
    "    }\n",
    "}\n",
    "\n",
    "main.main(null);"
   ]
  }
 ],
 "metadata": {
  "kernelspec": {
   "display_name": "Java",
   "language": "java",
   "name": "java"
  },
  "language_info": {
   "codemirror_mode": "java",
   "file_extension": ".jshell",
   "mimetype": "text/x-java-source",
   "name": "Java",
   "pygments_lexer": "java",
   "version": "17.0.13+11-Ubuntu-2ubuntu122.04"
  }
 },
 "nbformat": 4,
 "nbformat_minor": 2
}
