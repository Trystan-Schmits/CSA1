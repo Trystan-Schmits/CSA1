{
 "cells": [
  {
   "cell_type": "raw",
   "metadata": {
    "vscode": {
     "languageId": "raw"
    }
   },
   "source": [
    "---\n",
    "layout: post\n",
    "title: Pair Showcase\n",
    "description: Anytime in Sprint 1 is time to show accomplishments to teacher. The last week of the Spring there will be a formal live review meeting.\n",
    "categories: [Collaboration]\n",
    "courses: { csse: {week: 3}, csp: {week: 3}, csa: {week: 2} }\n",
    "menu: nav/pair_programming.html\n",
    "permalink: /pair/showcase/dom\n",
    "type: collab\n",
    "comments: true\n",
    "---"
   ]
  },
  {
   "cell_type": "markdown",
   "metadata": {},
   "source": [
    "\n",
    "<style>\n",
    "        .container {\n",
    "            width: 300px;\n",
    "            padding: 20px;\n",
    "            margin: 50px auto;\n",
    "            border: 2px solid #333;\n",
    "            border-radius: 10px;\n",
    "            text-align: center;\n",
    "        }\n",
    "        .container p {\n",
    "            font-size: 16px;\n",
    "            margin-bottom: 20px;\n",
    "        }\n",
    "        .container button {\n",
    "            padding: 10px 20px;\n",
    "            background-color: #007BFF;\n",
    "            color: #fff;\n",
    "            border: none;\n",
    "            border-radius: 5px;\n",
    "            cursor: pointer;\n",
    "            transition: background-color 0.3s, box-shadow 0.3s;\n",
    "            position: relative;\n",
    "            overflow: hidden;\n",
    "        }\n",
    "        .container button::before {\n",
    "            content: \"\";\n",
    "            position: absolute;\n",
    "            top: -50%;\n",
    "            left: -50%;\n",
    "            width: 200%;\n",
    "            height: 200%;\n",
    "            background: radial-gradient(circle, rgba(0, 123, 255, 0.5), transparent 70%);\n",
    "            transition: transform 0.5s;\n",
    "            transform: scale(0);\n",
    "            pointer-events: none;\n",
    "        }\n",
    "        .container button:hover {\n",
    "            background-color: #0056B3;\n",
    "            box-shadow: 0 0 10px rgba(0, 123, 255, 0.5), 0 0 20px rgba(0, 123, 255, 0.5), 0 0 30px rgba(0, 123, 255, 0.5);\n",
    "        }\n",
    "        .container button:hover::before {\n",
    "            transform: scale(1);\n",
    "            transition: transform 0.5s ease-out;\n",
    "        }\n",
    "    </style>\n",
    "<div class=\"container\">\n",
    "    <a href=\"/about/\" id=\"link1\"> My Site </a> <br>\n",
    "    <a href=\"placeHrefHere\" id=\"link2\"> Partner's Site </a>\n",
    "    <p id=\"myPara\"> This Div was created only using html \n",
    "    This is Trystan's Part of the Pair programming project\n",
    "    </p>\n",
    "</div>\n",
    "\n",
    "<button id=\"switcher\">Switch Links</button>\n",
    "\n",
    "<script>\n",
    "var a1 = document.getElementById(\"link1\");\n",
    "var a2 = document.getElementById(\"link2\");\n",
    "var para = document.getElementById(\"myPara\")\n",
    "var button = document.getElementById(\"switcher\");\n",
    "\n",
    "switcher.addEventListener(\"click\",()=>{\n",
    "    var link1 = a1.href;\n",
    "    var link2 = a2.href;\n",
    "    a1.href = link2;\n",
    "    a2.href = link1;\n",
    "    para.innerText = \"switched!\";\n",
    "})\n",
    "</script>"
   ]
  }
 ],
 "metadata": {
  "kernelspec": {
   "display_name": "Python 3",
   "language": "python",
   "name": "python3"
  },
  "language_info": {
   "codemirror_mode": {
    "name": "ipython",
    "version": 3
   },
   "file_extension": ".py",
   "mimetype": "text/x-python",
   "name": "python",
   "nbconvert_exporter": "python",
   "pygments_lexer": "ipython3",
   "version": "3.10.12"
  },
  "orig_nbformat": 4
 },
 "nbformat": 4,
 "nbformat_minor": 2
}
