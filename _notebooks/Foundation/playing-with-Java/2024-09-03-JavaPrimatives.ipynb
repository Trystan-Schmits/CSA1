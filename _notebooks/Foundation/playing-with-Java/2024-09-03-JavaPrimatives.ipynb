{
 "cells": [
  {
   "cell_type": "raw",
   "metadata": {
    "vscode": {
     "languageId": "raw"
    }
   },
   "source": [
    "---\n",
    "layout: post\n",
    "title: Java Primatives\n",
    "description:  playing around with java variables\n",
    "type: post\n",
    "comments: true\n",
    "permalink: /java/primatives\n",
    "---"
   ]
  },
  {
   "cell_type": "markdown",
   "metadata": {},
   "source": []
  },
  {
   "cell_type": "code",
   "execution_count": 2,
   "metadata": {
    "vscode": {
     "languageId": "java"
    }
   },
   "outputs": [
    {
     "name": "stdout",
     "output_type": "stream",
     "text": [
      "my starting int is 137 I placed it in a wrapper class of type class java.lang.Integer\n",
      " myInt converted to a char array is: 10001001\n",
      "now I will use a class called a deflator to compress the char array into a byte array\n",
      "... honestly I chose this because I was looking at built-in java classes and found the deflator and inflator classes\n",
      "the compressed data is: eJwzNDAwMAQiAAbVAYQAAAAAAAAAAAAAAAAAAAAAAAAAAAAAAAAAAAAAAAAAAAAAAAAAAAAAAAAAAAAAAAAAAAAAAAAAAAAAAAAAAAAAAAAAAAAAAAAAAAAAAAAAAAAAAAAAAA== with a length of 14bytes\n"
     ]
    }
   ],
   "source": [
    "import java.util.zip.Deflater;\n",
    "\n",
    "int myInteger = 137; //starting value\n",
    "\n",
    "Integer mi = new Integer(myInteger);\n",
    "String classOfMyInteger = mi.getClass().toString();\n",
    "System.out.println(\"my starting int is \" + myInteger + \" I placed it in a wrapper class of type \" + classOfMyInteger);\n",
    "\n",
    "char[] myIntChars = Integer.toBinaryString(mi).toCharArray();\n",
    "\n",
    "System.out.print(\" myInt converted to a char array is: \");\n",
    "\n",
    "CharArrayReader reader = new CharArrayReader(myIntChars);\n",
    "int k = 0;\n",
    "while ((k = reader.read()) != -1) {  \n",
    "    char ch = (char) k;  \n",
    "    System.out.print(ch);  \n",
    "}  \n",
    "System.out.println(\"\");  //make sure output will be on a new line\n",
    "\n",
    "System.out.println(\"now I will use a class called a deflator to compress the char array into a byte array\");\n",
    "System.out.println(\"... honestly I chose this because I was looking at built-in java classes and found the deflator and inflator classes\");\n",
    "byte[] dataToCompress = (new String(myIntChars)).getBytes(\"UTF-8\");\n",
    "// Compress the bytes\n",
    "byte[] output = new byte[100];\n",
    "Deflater compresser = new Deflater();\n",
    "compresser.setInput(dataToCompress);\n",
    "compresser.finish();\n",
    "int compressedDataLength = compresser.deflate(output);\n",
    "compresser.end();\n",
    "\n",
    "System.out.println(\"the compressed data is: \" + Base64.getEncoder().encodeToString(output) + \" with a length of \" + compressedDataLength + \"bytes\");"
   ]
  }
 ],
 "metadata": {
  "kernelspec": {
   "display_name": "Java",
   "language": "java",
   "name": "java"
  },
  "language_info": {
   "codemirror_mode": "java",
   "file_extension": ".jshell",
   "mimetype": "text/x-java-source",
   "name": "Java",
   "pygments_lexer": "java",
   "version": "17.0.12+7-Ubuntu-1ubuntu222.04"
  }
 },
 "nbformat": 4,
 "nbformat_minor": 2
}
