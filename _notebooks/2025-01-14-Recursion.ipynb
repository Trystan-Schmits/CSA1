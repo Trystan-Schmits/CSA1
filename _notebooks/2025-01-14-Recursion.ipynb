{
 "cells": [
  {
   "cell_type": "markdown",
   "metadata": {},
   "source": [
    "## popcorn hack 1 (factorial)"
   ]
  },
  {
   "cell_type": "code",
   "execution_count": 8,
   "metadata": {
    "vscode": {
     "languageId": "java"
    }
   },
   "outputs": [
    {
     "name": "stdout",
     "output_type": "stream",
     "text": [
      "-1\n"
     ]
    }
   ],
   "source": [
    "public static int factorial(int target) {\n",
    "    if (target > 0){\n",
    "        return target * factorial(target-1);\n",
    "    }\n",
    "    else if (target == 0){\n",
    "        return 1; //apparently \"0! = 1\"\n",
    "    }\n",
    "    else {\n",
    "        return -1; //not a possible value\n",
    "    }\n",
    "}\n",
    "\n",
    "System.out.println(factorial(-100));"
   ]
  },
  {
   "cell_type": "markdown",
   "metadata": {},
   "source": [
    "## popcorn hack #2 (sumArray)"
   ]
  },
  {
   "cell_type": "code",
   "execution_count": null,
   "metadata": {
    "vscode": {
     "languageId": "java"
    }
   },
   "outputs": [
    {
     "name": "stdout",
     "output_type": "stream",
     "text": [
      "0\n"
     ]
    }
   ],
   "source": [
    "public static int sumArray(int[] arr, int index) { \n",
    "    if(index < arr.length){\n",
    "        return arr[index]+sumArray(arr,index+1);\n",
    "    }\n",
    "    return 0;\n",
    "} \n",
    "\n",
    "int[] array = {0,1,2,3,4};\n",
    "System.out.println(sumArray(array,0));"
   ]
  },
  {
   "cell_type": "markdown",
   "metadata": {},
   "source": [
    "## popcorn hack #3 selection sort"
   ]
  },
  {
   "cell_type": "code",
   "execution_count": 23,
   "metadata": {
    "vscode": {
     "languageId": "java"
    }
   },
   "outputs": [
    {
     "name": "stdout",
     "output_type": "stream",
     "text": [
      "[7, 2, 5, 6]\n",
      "[7, 2, 5, 6]\n",
      "[7, 2, 5, 6]\n"
     ]
    }
   ],
   "source": [
    "public static int[] selctionSort(int[] arr, int index, int max) { \n",
    "    if(index <= 1){ return selctionSort(arr,index+1,arr[0]);};\n",
    "\n",
    "    int[] temp = new int[arr.length];\n",
    "\n",
    "    int offset = 0;\n",
    "    if(arr[index] >= max){\n",
    "        temp[0] = arr[index];\n",
    "        temp[1] = arr[0];\n",
    "        arr[0] = arr[1];\n",
    "        arr[1] = temp[1];\n",
    "        arr[index] = arr[0];\n",
    "\n",
    "        offset = 1;\n",
    "    }\n",
    "    \n",
    "\n",
    "    for(int i = offset; i<temp.length;i++){\n",
    "        temp[i]=arr[i];\n",
    "    }\n",
    "\n",
    "    System.out.println(Arrays.toString(temp));\n",
    "    if (index + 1 == arr.length){return temp;};\n",
    "\n",
    "    return selctionSort(temp,index + 1,temp[0]);\n",
    "}\n",
    "\n",
    "int[] array = {7,2,5,6};\n",
    "\n",
    "System.out.println(Arrays.toString(selctionSort(array,0,array[0])));"
   ]
  }
 ],
 "metadata": {
  "kernelspec": {
   "display_name": "Java",
   "language": "java",
   "name": "java"
  },
  "language_info": {
   "codemirror_mode": "java",
   "file_extension": ".jshell",
   "mimetype": "text/x-java-source",
   "name": "Java",
   "pygments_lexer": "java",
   "version": "17.0.13+11-Ubuntu-2ubuntu122.04"
  }
 },
 "nbformat": 4,
 "nbformat_minor": 2
}
