{
 "cells": [
  {
   "cell_type": "markdown",
   "metadata": {},
   "source": [
    "## popcorn hack 1 (factorial)"
   ]
  },
  {
   "cell_type": "code",
   "execution_count": 8,
   "metadata": {
    "vscode": {
     "languageId": "java"
    }
   },
   "outputs": [
    {
     "name": "stdout",
     "output_type": "stream",
     "text": [
      "-1\n"
     ]
    }
   ],
   "source": [
    "public static int factorial(int target) {\n",
    "    if (target > 0){\n",
    "        return target * factorial(target-1);\n",
    "    }\n",
    "    else if (target == 0){\n",
    "        return 1; //apparently \"0! = 1\"\n",
    "    }\n",
    "    else {\n",
    "        return -1; //not a possible value\n",
    "    }\n",
    "}\n",
    "\n",
    "System.out.println(factorial(-100));"
   ]
  },
  {
   "cell_type": "markdown",
   "metadata": {},
   "source": [
    "## popcorn hack #2 (sumArray)"
   ]
  },
  {
   "cell_type": "code",
   "execution_count": null,
   "metadata": {
    "vscode": {
     "languageId": "java"
    }
   },
   "outputs": [
    {
     "name": "stdout",
     "output_type": "stream",
     "text": [
      "0\n"
     ]
    }
   ],
   "source": [
    "public static int sumArray(int[] arr, int index) { \n",
    "    if(index < arr.length){\n",
    "        return arr[index]+sumArray(arr,index+1);\n",
    "    }\n",
    "    return 0;\n",
    "} \n",
    "\n",
    "int[] array = {0,1,2,3,4};\n",
    "System.out.println(sumArray(array,0));"
   ]
  },
  {
   "cell_type": "markdown",
   "metadata": {},
   "source": [
    "## popcorn hack #3 selection sort"
   ]
  },
  {
   "cell_type": "code",
   "execution_count": 17,
   "metadata": {
    "vscode": {
     "languageId": "java"
    }
   },
   "outputs": [
    {
     "name": "stdout",
     "output_type": "stream",
     "text": [
      "[1, 1, 0, 0]\n",
      "[1, 1, 0, 0]\n",
      "[0, 0, 0, 0]\n",
      "[0, 0, 0, 0]\n",
      "[0, 0, 0, 0]\n"
     ]
    }
   ],
   "source": [
    "public static int[] selctionSort(int[] arr, int index, int max) { \n",
    "    int[] temp = new int[arr.length];\n",
    "    if(arr[index] >= max){\n",
    "        temp[0] = arr[index];\n",
    "        temp[1] = arr[0];\n",
    "    }\n",
    "    \n",
    "    int offset = 1;\n",
    "    for(int i = 1; i<temp.length;i++){\n",
    "        if (i == offset){\n",
    "            offset++;\n",
    "            continue;\n",
    "        }\n",
    "        temp[i]=arr[i-offset];\n",
    "    }\n",
    "\n",
    "    System.out.println(Arrays.toString(temp));\n",
    "    if (index + 1 == arr.length){return temp;};\n",
    "\n",
    "    return selctionSort(temp,index + 1,temp[0]);\n",
    "}\n",
    "\n",
    "int[] array = {1,2,5,6};\n",
    "\n",
    "System.out.println(Arrays.toString(selctionSort(array,0,array[0])));"
   ]
  }
 ],
 "metadata": {
  "kernelspec": {
   "display_name": "Java",
   "language": "java",
   "name": "java"
  },
  "language_info": {
   "codemirror_mode": "java",
   "file_extension": ".jshell",
   "mimetype": "text/x-java-source",
   "name": "Java",
   "pygments_lexer": "java",
   "version": "17.0.13+11-Ubuntu-2ubuntu122.04"
  }
 },
 "nbformat": 4,
 "nbformat_minor": 2
}
