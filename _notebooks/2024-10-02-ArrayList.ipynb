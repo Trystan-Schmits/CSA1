{
 "cells": [
  {
   "cell_type": "raw",
   "metadata": {},
   "source": [
    "---\n",
    "layout: post\n",
    "title: Array Lists\n",
    "description: hacks for array lists\n",
    "permalink: /array-lists\n",
    "comments: true\n",
    "---"
   ]
  },
  {
   "cell_type": "code",
   "execution_count": null,
   "metadata": {
    "vscode": {
     "languageId": "java"
    }
   },
   "outputs": [],
   "source": [
    "import java.util.ArrayList;  // Import the ArrayList class\n",
    "\n",
    "ArrayList<String> stringList = new ArrayList<>();\n",
    "\n",
    "stringList.add(\"Apple\");\n",
    "stringList.add(\"Banana\");\n",
    "stringList.add(\"Cherry\");\n",
    "stringList.add(\"Date\");\n",
    "\n",
    "//print out original size\n",
    "System.out.println(stringList.size());\n",
    "\n",
    "//add new element \"Fig\"\n",
    "stringList.add(\"Fig\");\n",
    "\n",
    "//print out size\n",
    "System.out.println(stringList.size());\n",
    "\n",
    "//add new element \"Grape\" at index of 2\n",
    "stringList.add(2,\"Grape\");"
   ]
  },
  {
   "cell_type": "code",
   "execution_count": null,
   "metadata": {
    "vscode": {
     "languageId": "java"
    }
   },
   "outputs": [],
   "source": [
    "import java.util.ArrayList;  // Import the ArrayList class\n",
    "\n",
    "class ArrayListHacks {\n",
    "    private int findSum(ArrayList<Integer> values) {\n",
    "        int sum = 0;\n",
    "        for (Integer number : values){\n",
    "            sum += number.intValue();\n",
    "        }\n",
    "        return sum;\n",
    "    }\n",
    "\n",
    "    public static void main(String[] args) {\n",
    "        ArrayList<Integer> nums = new ArrayList<>();\n",
    "        nums.add(0);\n",
    "        nums.add(1);\n",
    "        nums.add(2);\n",
    "        nums.add(3);\n",
    "        nums.add(5);\n",
    "        nums.add(8);\n",
    "\n",
    "        ArrayListHacks hacks = new ArrayListHacks();\n",
    "        hacks.findSum(nums);\n",
    "    }\n",
    "}\n",
    "\n",
    "ArrayListHacks.main(null);"
   ]
  },
  {
   "cell_type": "code",
   "execution_count": null,
   "metadata": {
    "vscode": {
     "languageId": "java"
    }
   },
   "outputs": [],
   "source": [
    "import java.util.ArrayList;  // Import the ArrayList class\n",
    "\n",
    "ArrayList<Double> weights = new ArrayList<>();\n",
    "weights.add(4.5);\n",
    "weights.add(2.1);\n",
    "weights.add(5.0);\n",
    "weights.add(1.9);\n",
    "\n",
    "ArrayList<> sortArray(ArrayList<Double> array){\n",
    "    ArrayList<> step(ArrayList<Double> array1){\n",
    "        for(int i = 1; i < array1.size(); i++){\n",
    "            if(array1.get(i-1) > array1.get(i)){\n",
    "                Double temp = array1.get(i-1);\n",
    "                array1.remove(i);\n",
    "                array1.add(i,temp);\n",
    "            }\n",
    "        }\n",
    "        return array1;\n",
    "    }\n",
    "    boolean complete = false;\n",
    "    while (!complete){\n",
    "        for(int i = 1; i < array.size(); i++){\n",
    "            if(array.get(i-1) > array.get(i)){\n",
    "                array = step(array);\n",
    "                break;\n",
    "            }\n",
    "        }\n",
    "        complete = true;\n",
    "    }\n",
    "    return array;\n",
    "}\n",
    "\n",
    "weights = sortArray(weights);\n",
    "\n",
    "Double weightsArray = weights.toArray();\n",
    "System.out.println(Arrays.toString(weightsArray));"
   ]
  }
 ],
 "metadata": {
  "kernelspec": {
   "display_name": "Java",
   "language": "java",
   "name": "java"
  },
  "language_info": {
   "codemirror_mode": "java",
   "file_extension": ".jshell",
   "mimetype": "text/x-java-source",
   "name": "Java",
   "pygments_lexer": "java",
   "version": "17.0.12+7-Ubuntu-1ubuntu222.04"
  }
 },
 "nbformat": 4,
 "nbformat_minor": 2
}
