{
 "cells": [
  {
   "cell_type": "raw",
   "metadata": {},
   "source": [
    "---\n",
    "layout: post\n",
    "title: Array Lists\n",
    "description: hacks for array lists\n",
    "permalink: /array-lists\n",
    "comments: true\n",
    "---"
   ]
  },
  {
   "cell_type": "code",
   "execution_count": null,
   "metadata": {
    "vscode": {
     "languageId": "java"
    }
   },
   "outputs": [],
   "source": [
    "import java.util.ArrayList;  // Import the ArrayList class\n",
    "\n",
    "ArrayList<String> stringList = new ArrayList<>();\n",
    "\n",
    "stringList.add(\"Apple\");\n",
    "stringList.add(\"Banana\");\n",
    "stringList.add(\"Cherry\");\n",
    "stringList.add(\"Date\");\n",
    "\n",
    "//print out original size\n",
    "System.out.println(stringList.size());\n",
    "\n",
    "//add new element \"Fig\"\n",
    "stringList.add(\"Fig\");\n",
    "\n",
    "//print out size\n",
    "System.out.println(stringList.size());\n",
    "\n",
    "//add new element \"Grape\" at index of 2\n",
    "stringList.add(2,\"Grape\");"
   ]
  },
  {
   "cell_type": "code",
   "execution_count": 8,
   "metadata": {
    "vscode": {
     "languageId": "java"
    }
   },
   "outputs": [
    {
     "name": "stdout",
     "output_type": "stream",
     "text": [
      "19\n"
     ]
    }
   ],
   "source": [
    "import java.util.ArrayList;  // Import the ArrayList class\n",
    "\n",
    "class ArrayListHacks {\n",
    "    private int findSum(ArrayList<Integer> values) {\n",
    "        int sum = 0;\n",
    "        for (Integer number : values){\n",
    "            sum += number.intValue();\n",
    "        }\n",
    "        return sum;\n",
    "    }\n",
    "\n",
    "    public static void main(String[] args) {\n",
    "        ArrayList<Integer> nums = new ArrayList<>();\n",
    "        nums.add(0);\n",
    "        nums.add(1);\n",
    "        nums.add(2);\n",
    "        nums.add(3);\n",
    "        nums.add(5);\n",
    "        nums.add(8);\n",
    "\n",
    "        ArrayListHacks hacks = new ArrayListHacks();\n",
    "        System.out.println(hacks.findSum(nums));\n",
    "    }\n",
    "}\n",
    "\n",
    "ArrayListHacks.main(null);"
   ]
  },
  {
   "cell_type": "code",
   "execution_count": 45,
   "metadata": {
    "vscode": {
     "languageId": "java"
    }
   },
   "outputs": [
    {
     "name": "stdout",
     "output_type": "stream",
     "text": [
      "[-5.0, -3.7, -1.9, 2.1, 4.5, 4.7]\n"
     ]
    }
   ],
   "source": [
    "import java.util.ArrayList;  // Import the ArrayList class\n",
    "\n",
    "ArrayList<Double> weights = new ArrayList<>();\n",
    "weights.add(4.5);\n",
    "weights.add(2.1);\n",
    "weights.add(-5.0);\n",
    "weights.add(-1.9);\n",
    "weights.add(-3.7);\n",
    "weights.add(4.7);\n",
    "\n",
    "ArrayList<Double> step(ArrayList<Double> array1){ \n",
    "    for(int i = 1; i < array1.size(); i++){\n",
    "        if(array1.get(i-1) > array1.get(i)){\n",
    "            Double temp = array1.get(i-1);\n",
    "            array1.remove(i-1);\n",
    "            array1.add(i,temp);\n",
    "        }\n",
    "    }\n",
    "    return array1;\n",
    "}\n",
    "\n",
    "ArrayList<Double> sortArray(ArrayList<Double> array){\n",
    "    boolean complete = false;\n",
    "    while (!complete){\n",
    "        for(int i = 1; i < array.size(); i++){\n",
    "            if(array.get(i-1) > array.get(i)){\n",
    "                array = step(array);\n",
    "                break;\n",
    "            }\n",
    "            else if (i == array.size() - 1){\n",
    "                complete = true;\n",
    "            }\n",
    "        }\n",
    "    }\n",
    "    return array;\n",
    "}\n",
    "\n",
    "weights = sortArray(weights);\n",
    "\n",
    "System.out.println(Arrays.toString(weights.toArray()));"
   ]
  },
  {
   "cell_type": "markdown",
   "metadata": {},
   "source": [
    "You could\n",
    "\n",
    "```\n",
    "userData = null;  //or new ArrayList<>();\n",
    "```"
   ]
  },
  {
   "cell_type": "code",
   "execution_count": null,
   "metadata": {
    "vscode": {
     "languageId": "java"
    }
   },
   "outputs": [],
   "source": [
    "ArrayList myList = new ArrayList();\n",
    "myList.add(\"Hello\");\n",
    "myList.add(\"world,\");\n",
    "myList.add(\"my\");\n",
    "myList.add(\"favorite\");\n",
    "myList.add(\"color\");\n",
    "myList.add(\"is\");\n",
    "myList.add(\"red\");\n",
    "\n",
    "System.out.println(Arrays.toString(myList.toArray()));"
   ]
  },
  {
   "cell_type": "code",
   "execution_count": 47,
   "metadata": {
    "vscode": {
     "languageId": "java"
    }
   },
   "outputs": [
    {
     "name": "stdout",
     "output_type": "stream",
     "text": [
      "[Hello, Del Norte, my, favorite, color, is, red]\n"
     ]
    }
   ],
   "source": [
    "ArrayList myList = new ArrayList();\n",
    "myList.add(\"Hello\");\n",
    "myList.add(\"world,\");\n",
    "myList.add(\"my\");\n",
    "myList.add(\"favorite\");\n",
    "myList.add(\"color\");\n",
    "myList.add(\"is\");\n",
    "myList.add(\"red\");\n",
    "\n",
    "myList.set(1, \"Del Norte\");\n",
    "System.out.println(Arrays.toString(myList.toArray()));"
   ]
  },
  {
   "cell_type": "code",
   "execution_count": 48,
   "metadata": {
    "vscode": {
     "languageId": "java"
    }
   },
   "outputs": [
    {
     "name": "stdout",
     "output_type": "stream",
     "text": [
      "[Hello, my, favorite, color, is, red]\n"
     ]
    }
   ],
   "source": [
    "ArrayList myList = new ArrayList();\n",
    "myList.add(\"Hello\");\n",
    "myList.add(\"world,\");\n",
    "myList.add(\"my\");\n",
    "myList.add(\"favorite\");\n",
    "myList.add(\"color\");\n",
    "myList.add(\"is\");\n",
    "myList.add(\"red\");\n",
    "\n",
    "myList.set(1, \"Del Norte\");\n",
    "\n",
    "myList.remove(1);\n",
    "System.out.println(Arrays.toString(myList.toArray()));"
   ]
  },
  {
   "cell_type": "code",
   "execution_count": 49,
   "metadata": {
    "vscode": {
     "languageId": "java"
    }
   },
   "outputs": [
    {
     "name": "stdout",
     "output_type": "stream",
     "text": [
      "true\n"
     ]
    }
   ],
   "source": [
    "ArrayList myList = new ArrayList();\n",
    "myList.add(\"Hello\");\n",
    "myList.add(\"world,\");\n",
    "myList.add(\"my\");\n",
    "myList.add(\"favorite\");\n",
    "myList.add(\"color\");\n",
    "myList.add(\"is\");\n",
    "myList.add(\"red\");\n",
    "\n",
    "System.out.println(myList.contains(\"Hello\"));"
   ]
  },
  {
   "cell_type": "code",
   "execution_count": 50,
   "metadata": {
    "vscode": {
     "languageId": "java"
    }
   },
   "outputs": [
    {
     "name": "stdout",
     "output_type": "stream",
     "text": [
      "Hello\n",
      "world,\n",
      "my\n",
      "favorite\n",
      "color\n",
      "is\n",
      "red\n"
     ]
    }
   ],
   "source": [
    "ArrayList myList = new ArrayList();\n",
    "myList.add(\"Hello\");\n",
    "myList.add(\"world,\");\n",
    "myList.add(\"my\");\n",
    "myList.add(\"favorite\");\n",
    "myList.add(\"color\");\n",
    "myList.add(\"is\");\n",
    "myList.add(\"red\");\n",
    "\n",
    "for(Object value: myList){\n",
    "    System.out.println(value);\n",
    "}"
   ]
  },
  {
   "cell_type": "code",
   "execution_count": 52,
   "metadata": {
    "vscode": {
     "languageId": "java"
    }
   },
   "outputs": [
    {
     "name": "stdout",
     "output_type": "stream",
     "text": [
      "[-3, 1, 2, 3, 4, 5, 7]\n"
     ]
    }
   ],
   "source": [
    "ArrayList myList = new ArrayList();\n",
    "myList.add(2);\n",
    "myList.add(4);\n",
    "myList.add(-3);\n",
    "myList.add(7);\n",
    "myList.add(1);\n",
    "myList.add(5);\n",
    "myList.add(3);\n",
    "\n",
    "Collections.sort(myList);\n",
    "\n",
    "System.out.println(Arrays.toString(myList.toArray()));"
   ]
  }
 ],
 "metadata": {
  "kernelspec": {
   "display_name": "java (IJava/j!)",
   "language": "java",
   "name": "jbang-ijava"
  },
  "language_info": {
   "codemirror_mode": "java",
   "file_extension": ".jshell",
   "mimetype": "text/x-java-source",
   "name": "Java",
   "pygments_lexer": "java",
   "version": "17.0.12+7"
  }
 },
 "nbformat": 4,
 "nbformat_minor": 2
}
